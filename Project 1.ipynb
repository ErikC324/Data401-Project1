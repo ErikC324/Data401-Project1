{
 "cells": [
  {
   "cell_type": "markdown",
   "metadata": {},
   "source": [
    "## Imports and Reading Dataset"
   ]
  },
  {
   "cell_type": "code",
   "execution_count": 1,
   "metadata": {},
   "outputs": [
    {
     "name": "stdout",
     "output_type": "stream",
     "text": [
      "Requirement already satisfied: uszipcode in ./.local/lib/python3.7/site-packages (0.2.4)\n",
      "Requirement already satisfied: attrs in /opt/tljh/user/lib/python3.7/site-packages (from uszipcode) (20.2.0)\n",
      "Requirement already satisfied: pathlib-mate in ./.local/lib/python3.7/site-packages (from uszipcode) (1.0.0)\n",
      "Requirement already satisfied: requests in /opt/tljh/user/lib/python3.7/site-packages (from uszipcode) (2.22.0)\n",
      "Requirement already satisfied: sqlalchemy in /opt/tljh/user/lib/python3.7/site-packages (from uszipcode) (1.3.19)\n",
      "Requirement already satisfied: six in /opt/tljh/user/lib/python3.7/site-packages (from pathlib-mate->uszipcode) (1.12.0)\n",
      "Requirement already satisfied: autopep8 in ./.local/lib/python3.7/site-packages (from pathlib-mate->uszipcode) (1.5.4)\n",
      "Requirement already satisfied: certifi>=2017.4.17 in /opt/tljh/user/lib/python3.7/site-packages (from requests->uszipcode) (2020.6.20)\n",
      "Requirement already satisfied: urllib3!=1.25.0,!=1.25.1,<1.26,>=1.21.1 in /opt/tljh/user/lib/python3.7/site-packages (from requests->uszipcode) (1.24.2)\n",
      "Requirement already satisfied: chardet<3.1.0,>=3.0.2 in /opt/tljh/user/lib/python3.7/site-packages (from requests->uszipcode) (3.0.4)\n",
      "Requirement already satisfied: idna<2.9,>=2.5 in /opt/tljh/user/lib/python3.7/site-packages (from requests->uszipcode) (2.8)\n",
      "Requirement already satisfied: pycodestyle>=2.6.0 in ./.local/lib/python3.7/site-packages (from autopep8->pathlib-mate->uszipcode) (2.6.0)\n",
      "Requirement already satisfied: toml in ./.local/lib/python3.7/site-packages (from autopep8->pathlib-mate->uszipcode) (0.10.1)\n"
     ]
    },
    {
     "name": "stderr",
     "output_type": "stream",
     "text": [
      "/opt/tljh/user/lib/python3.7/site-packages/IPython/core/interactiveshell.py:3146: DtypeWarning: Columns (6,14) have mixed types.Specify dtype option on import or set low_memory=False.\n",
      "  interactivity=interactivity, compiler=compiler, result=result)\n"
     ]
    }
   ],
   "source": [
    "!pip install --user uszipcode\n",
    "from uszipcode import SearchEngine\n",
    "import pandas as pd\n",
    "import numpy as np\n",
    "\n",
    "search = SearchEngine(simple_zipcode=True)\n",
    "df = pd.read_csv('/datasets/iowaliquor.csv')[['Date', 'Store Name', 'Zip Code', 'Sale (Dollars)']]"
   ]
  },
  {
   "cell_type": "markdown",
   "metadata": {},
   "source": [
    "## Fill Missing Zip Codes"
   ]
  },
  {
   "cell_type": "code",
   "execution_count": 2,
   "metadata": {},
   "outputs": [],
   "source": [
    "unqs = df[df[\"Zip Code\"].isna()][\"Store Name\"].unique() # get unique store names\n",
    "cities = [store.split(\"/\")[-1].strip().lower() for store in unqs if \"/\" in store] # extract city name\n",
    "if \"mlk\" in cities:\n",
    "    cities.remove(\"mlk\")\n",
    "subset = df[df[\"Store Name\"].str.contains(\"/\") & (df[\"Zip Code\"].isna())] \n",
    "city_dict = {}\n",
    "for city in set(cities): # get zip code from rows with cities in store name\n",
    "    city_dict[city] = search.by_city_and_state(city, \"iowa\")[0].zipcode\n",
    "city_dict[\"mlk\"] = '50310'\n",
    "df.loc[subset.index, 'Zip Code'] = subset[\"Store Name\"].str.split(\"/\").str[-1].str.strip().str.lower().map(city_dict) "
   ]
  },
  {
   "cell_type": "markdown",
   "metadata": {},
   "source": [
    "## Aggregate and Get Zip Code Statistics"
   ]
  },
  {
   "cell_type": "code",
   "execution_count": 91,
   "metadata": {},
   "outputs": [],
   "source": [
    "df[\"YearMonth\"] = df[\"Date\"].str.split(\"/\").str[2] + \"-\" + df[\"Date\"].str.split(\"/\").str[0]\n",
    "\n",
    "totalSales = pd.DataFrame(df.groupby([\"YearMonth\", \"Zip Code\"])[\"Sale (Dollars)\"].sum())\n",
    "totalSales.reset_index(inplace=True)\n",
    "totalSales[\"Zip Code\"] = totalSales[\"Zip Code\"].replace(\"712-2\", 51529)\n",
    "totalSales[\"Zip Code\"] = totalSales[\"Zip Code\"].astype(int)\n",
    "\n",
    "populationDict = {}\n",
    "popDensityDict = {}\n",
    "housingUnitsDict = {}\n",
    "incomeDict = {}\n",
    "\n",
    "for zc in totalSales[\"Zip Code\"].unique():\n",
    "    stats = search.by_zipcode(zc)\n",
    "    populationDict[zc] = stats.population\n",
    "    popDensityDict[zc] = stats.population_density\n",
    "    housingUnitsDict[zc] = stats.housing_units\n",
    "    incomeDict[zc] = stats.median_household_income"
   ]
  },
  {
   "cell_type": "code",
   "execution_count": 149,
   "metadata": {},
   "outputs": [],
   "source": [
    "totalSales[\"Month\"] = totalSales[\"YearMonth\"].str.split(\"-\").str[-1]\n",
    "totalSales[\"Population\"] = totalSales[\"Zip Code\"].map(populationDict)\n",
    "totalSales[\"PopulationDensity\"] = totalSales[\"Zip Code\"].map(popDensityDict)\n",
    "totalSales[\"HousingUnits\"] = totalSales[\"Zip Code\"].map(housingUnitsDict)\n",
    "totalSales[\"MedianIncome\"] = totalSales[\"Zip Code\"].map(incomeDict)\n",
    "totalSales[\"SalesPerCapita\"] = totalSales[\"Sale (Dollars)\"] / totalSales[\"Population\"]\n",
    "totalSales[\"LogPopDensity\"] = np.log(totalSales[\"PopulationDensity\"])\n",
    "totalSales.dropna(inplace=True)"
   ]
  },
  {
   "cell_type": "markdown",
   "metadata": {},
   "source": [
    "## Linear Regression"
   ]
  },
  {
   "cell_type": "code",
   "execution_count": 154,
   "metadata": {},
   "outputs": [],
   "source": [
    "X = totalSales[['LogPopDensity', 'MedianIncome', 'Month']]\n",
    "X = np.array(pd.get_dummies(X))\n",
    "y = np.array(totalSales['SalesPerCapita'])"
   ]
  },
  {
   "cell_type": "code",
   "execution_count": 155,
   "metadata": {},
   "outputs": [],
   "source": [
    "b = np.linalg.inv(X.T@X)@X.T@y"
   ]
  },
  {
   "cell_type": "code",
   "execution_count": 156,
   "metadata": {},
   "outputs": [
    {
     "data": {
      "text/plain": [
       "array([ 1.63191468e+00, -1.11067809e-04,  3.72030548e+00,  3.72173226e+00,\n",
       "        3.90663960e+00,  4.06305266e+00,  4.83021274e+00,  4.90684039e+00,\n",
       "        4.24682397e+00,  4.81158221e+00,  3.90109263e+00,  4.93140181e+00,\n",
       "        3.68464545e+00,  5.16324349e+00])"
      ]
     },
     "execution_count": 156,
     "metadata": {},
     "output_type": "execute_result"
    }
   ],
   "source": [
    "b"
   ]
  },
  {
   "cell_type": "code",
   "execution_count": 157,
   "metadata": {},
   "outputs": [
    {
     "data": {
      "text/plain": [
       "9.961374167005804"
      ]
     },
     "execution_count": 157,
     "metadata": {},
     "output_type": "execute_result"
    }
   ],
   "source": [
    "np.sqrt(((X@b - y)**2).mean())"
   ]
  },
  {
   "cell_type": "code",
   "execution_count": null,
   "metadata": {},
   "outputs": [],
   "source": []
  }
 ],
 "metadata": {
  "kernelspec": {
   "display_name": "Python 3",
   "language": "python",
   "name": "python3"
  },
  "language_info": {
   "codemirror_mode": {
    "name": "ipython",
    "version": 3
   },
   "file_extension": ".py",
   "mimetype": "text/x-python",
   "name": "python",
   "nbconvert_exporter": "python",
   "pygments_lexer": "ipython3",
   "version": "3.7.3"
  }
 },
 "nbformat": 4,
 "nbformat_minor": 4
}
