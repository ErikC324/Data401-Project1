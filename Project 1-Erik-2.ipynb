{
 "cells": [
  {
   "cell_type": "markdown",
   "metadata": {},
   "source": [
    "## Imports and Reading Datasets"
   ]
  },
  {
   "cell_type": "code",
   "execution_count": 7,
   "metadata": {},
   "outputs": [],
   "source": [
    "!pip install --user uszipcode\n",
    "from uszipcode import SearchEngine\n",
    "import pandas as pd\n",
    "import numpy as np\n",
    "import random\n",
    "\n",
    "search = SearchEngine(simple_zipcode=True)\n",
    "df = pd.read_csv('/datasets/iowaliquor.csv')[['Date', 'Store Name', 'Zip Code', 'Sale (Dollars)', 'County']]\n",
    "election_df = pd.read_csv('usa-2016-presidential-election-by-county.csv', sep=';')\n",
    "election_df = election_df[election_df['State'] == 'Iowa']"
   ]
  },
  {
   "cell_type": "markdown",
   "metadata": {},
   "source": [
    "## Fill Missing Zip Codes"
   ]
  },
  {
   "cell_type": "code",
   "execution_count": 2,
   "metadata": {},
   "outputs": [],
   "source": [
    "unqs = df[df[\"Zip Code\"].isna()][\"Store Name\"].unique() # get unique store names\n",
    "cities = [store.split(\"/\")[-1].strip().lower() for store in unqs if \"/\" in store] # extract city name\n",
    "if \"mlk\" in cities:\n",
    "    cities.remove(\"mlk\")\n",
    "subset = df[df[\"Store Name\"].str.contains(\"/\") & (df[\"Zip Code\"].isna())] \n",
    "city_dict = {}\n",
    "for city in set(cities): # get zip code from rows with cities in store name\n",
    "    city_dict[city] = search.by_city_and_state(city, \"iowa\")[0].zipcode\n",
    "city_dict[\"mlk\"] = '50310'\n",
    "df.loc[subset.index, 'Zip Code'] = subset[\"Store Name\"].str.split(\"/\").str[-1].str.strip().str.lower().map(city_dict) "
   ]
  },
  {
   "cell_type": "markdown",
   "metadata": {},
   "source": [
    "## Aggregate and Get Zip Code Statistics"
   ]
  },
  {
   "cell_type": "code",
   "execution_count": 42,
   "metadata": {
    "collapsed": true
   },
   "outputs": [
    {
     "ename": "NameError",
     "evalue": "name 'df' is not defined",
     "output_type": "error",
     "traceback": [
      "\u001b[0;31m---------------------------------------------------------------------------\u001b[0m",
      "\u001b[0;31mNameError\u001b[0m                                 Traceback (most recent call last)",
      "\u001b[0;32m<ipython-input-42-89a5f5fd3b45>\u001b[0m in \u001b[0;36m<module>\u001b[0;34m\u001b[0m\n\u001b[0;32m----> 1\u001b[0;31m \u001b[0mdf\u001b[0m\u001b[0;34m[\u001b[0m\u001b[0;34m\"YearMonth\"\u001b[0m\u001b[0;34m]\u001b[0m \u001b[0;34m=\u001b[0m \u001b[0mdf\u001b[0m\u001b[0;34m[\u001b[0m\u001b[0;34m\"Date\"\u001b[0m\u001b[0;34m]\u001b[0m\u001b[0;34m.\u001b[0m\u001b[0mstr\u001b[0m\u001b[0;34m.\u001b[0m\u001b[0msplit\u001b[0m\u001b[0;34m(\u001b[0m\u001b[0;34m\"/\"\u001b[0m\u001b[0;34m)\u001b[0m\u001b[0;34m.\u001b[0m\u001b[0mstr\u001b[0m\u001b[0;34m[\u001b[0m\u001b[0;36m2\u001b[0m\u001b[0;34m]\u001b[0m \u001b[0;34m+\u001b[0m \u001b[0;34m\"-\"\u001b[0m \u001b[0;34m+\u001b[0m \u001b[0mdf\u001b[0m\u001b[0;34m[\u001b[0m\u001b[0;34m\"Date\"\u001b[0m\u001b[0;34m]\u001b[0m\u001b[0;34m.\u001b[0m\u001b[0mstr\u001b[0m\u001b[0;34m.\u001b[0m\u001b[0msplit\u001b[0m\u001b[0;34m(\u001b[0m\u001b[0;34m\"/\"\u001b[0m\u001b[0;34m)\u001b[0m\u001b[0;34m.\u001b[0m\u001b[0mstr\u001b[0m\u001b[0;34m[\u001b[0m\u001b[0;36m0\u001b[0m\u001b[0;34m]\u001b[0m\u001b[0;34m\u001b[0m\u001b[0;34m\u001b[0m\u001b[0m\n\u001b[0m\u001b[1;32m      2\u001b[0m \u001b[0mdf\u001b[0m\u001b[0;34m[\u001b[0m\u001b[0;34m\"Year\"\u001b[0m\u001b[0;34m]\u001b[0m \u001b[0;34m=\u001b[0m \u001b[0mdf\u001b[0m\u001b[0;34m[\u001b[0m\u001b[0;34m\"YearMonth\"\u001b[0m\u001b[0;34m]\u001b[0m\u001b[0;34m.\u001b[0m\u001b[0mstr\u001b[0m\u001b[0;34m.\u001b[0m\u001b[0msplit\u001b[0m\u001b[0;34m(\u001b[0m\u001b[0;34m\"-\"\u001b[0m\u001b[0;34m)\u001b[0m\u001b[0;34m.\u001b[0m\u001b[0mstr\u001b[0m\u001b[0;34m[\u001b[0m\u001b[0;36m0\u001b[0m\u001b[0;34m]\u001b[0m\u001b[0;34m\u001b[0m\u001b[0;34m\u001b[0m\u001b[0m\n\u001b[1;32m      3\u001b[0m \u001b[0;34m\u001b[0m\u001b[0m\n\u001b[1;32m      4\u001b[0m \u001b[0mdf\u001b[0m \u001b[0;34m=\u001b[0m \u001b[0mdf\u001b[0m\u001b[0;34m[\u001b[0m\u001b[0mdf\u001b[0m\u001b[0;34m[\u001b[0m\u001b[0;34m\"Zip Code\"\u001b[0m\u001b[0;34m]\u001b[0m\u001b[0;34m.\u001b[0m\u001b[0mnotna\u001b[0m\u001b[0;34m(\u001b[0m\u001b[0;34m)\u001b[0m\u001b[0;34m]\u001b[0m\u001b[0;34m\u001b[0m\u001b[0;34m\u001b[0m\u001b[0m\n\u001b[1;32m      5\u001b[0m \u001b[0mdf\u001b[0m\u001b[0;34m[\u001b[0m\u001b[0;34m\"Zip Code\"\u001b[0m\u001b[0;34m]\u001b[0m \u001b[0;34m=\u001b[0m \u001b[0mdf\u001b[0m\u001b[0;34m[\u001b[0m\u001b[0;34m\"Zip Code\"\u001b[0m\u001b[0;34m]\u001b[0m\u001b[0;34m.\u001b[0m\u001b[0mreplace\u001b[0m\u001b[0;34m(\u001b[0m\u001b[0;34m\"712-2\"\u001b[0m\u001b[0;34m,\u001b[0m \u001b[0;36m51529\u001b[0m\u001b[0;34m)\u001b[0m\u001b[0;34m\u001b[0m\u001b[0;34m\u001b[0m\u001b[0m\n",
      "\u001b[0;31mNameError\u001b[0m: name 'df' is not defined"
     ]
    }
   ],
   "source": [
    "df[\"YearMonth\"] = df[\"Date\"].str.split(\"/\").str[2] + \"-\" + df[\"Date\"].str.split(\"/\").str[0]\n",
    "\n",
    "df = df[df[\"Zip Code\"].notna()]\n",
    "df[\"Zip Code\"] = df[\"Zip Code\"].replace(\"712-2\", 51529)\n",
    "df[\"Zip Code\"] = df[\"Zip Code\"].astype(int)\n",
    "\n",
    "countyDict = {}\n",
    "popDict = {}\n",
    "\n",
    "for zc in df[\"Zip Code\"].unique():\n",
    "    stats = search.by_zipcode(zc)\n",
    "    if stats.state == \"IA\":\n",
    "        countyDict[zc] = stats.county\n",
    "        popDict[zc] = stats.population"
   ]
  },
  {
   "cell_type": "code",
   "execution_count": 38,
   "metadata": {},
   "outputs": [],
   "source": [
    "totalZip = pd.DataFrame(df.groupby([\"YearMonth\", \"Zip Code\"])[\"Sale (Dollars)\"].sum())\n",
    "totalZip.reset_index(inplace=True)\n",
    "totalZip[\"Population\"] = totalZip[\"Zip Code\"].map(popDict)"
   ]
  },
  {
   "cell_type": "markdown",
   "metadata": {},
   "source": [
    "## County Aggregate & Add Election Data"
   ]
  },
  {
   "cell_type": "code",
   "execution_count": 61,
   "metadata": {},
   "outputs": [],
   "source": [
    "totalZip[\"County\"] = totalZip[\"Zip Code\"].map(countyDict)\n",
    "totalZip.dropna(inplace=True)\n",
    "totalCounty = pd.DataFrame(totalZip.groupby([\"YearMonth\", \"County\"])[\"Sale (Dollars)\"].sum())\n",
    "totalCounty.reset_index(inplace=True)\n",
    "totalCounty[\"Month\"] = totalCounty[\"YearMonth\"].str.split(\"-\").str[-1]\n",
    "\n",
    "election_df[\"County\"] = election_df[\"County\"].str.replace(', Iowa', \"\")\n",
    "totalCounty = totalCounty.merge(election_df, on=\"County\")\n",
    "totalCounty[\"SalesPerCapita\"] = totalCounty[\"Sale (Dollars)\"] / totalCounty[\"Total Population\"]"
   ]
  },
  {
   "cell_type": "markdown",
   "metadata": {},
   "source": [
    "## Unemployment Data"
   ]
  },
  {
   "cell_type": "code",
   "execution_count": 186,
   "metadata": {},
   "outputs": [],
   "source": [
    "totalCounty = pd.read_csv(\"totalCounty.csv\").drop(\"Unnamed: 0\", axis=1)\n",
    "totalCounty[\"Year\"] = totalCounty[\"YearMonth\"].str.split(\"-\").str[0]\n",
    "unemployment_df = pd.read_csv(\"iowa_unemployment.csv\")\n",
    "unemployment_df.rename(columns={\"County Name\": \"County\"}, inplace=True)\n",
    "unemployment_df[\"Year\"] = unemployment_df[\"Year\"].astype(str)\n",
    "unemployment_df[\"County\"] = unemployment_df[\"County\"] + \" County\"\n",
    "totalCounty = pd.merge(totalCounty, unemployment_df,  how='left', left_on=['County','Year'], right_on = ['County','Year'])"
   ]
  },
  {
   "cell_type": "markdown",
   "metadata": {},
   "source": [
    "## Transform Variables"
   ]
  },
  {
   "cell_type": "code",
   "execution_count": 342,
   "metadata": {},
   "outputs": [],
   "source": [
    "totalCounty[\"LogSPC\"] = np.log(totalCounty[\"SalesPerCapita\"])\n",
    "totalCounty[\"LogBachelors\"] = np.log(totalCounty[\"At Least Bachelors's Degree\"])\n",
    "totalCounty[\"LogPop\"] = np.log(totalCounty[\"Total Population\"])\n",
    "totalCounty[\"YearsPast2012\"] = totalCounty[\"YearMonth\"].str.split(\"-\").str[0].astype(int) - 2012\n",
    "totalCounty[\"Adult.smoking\"] = totalCounty[\"Adult.smoking\"].replace(np.nan, totalCounty[\"Adult.smoking\"].mean())\n",
    "totalCounty[\"BenefitsPerPerson\"] = totalCounty[\"Benefits Paid\"] / totalCounty[\"Total Population\"]\n",
    "totalCounty[\"Month\"] = totalCounty[\"Month\"].astype(str)\n",
    "totalCounty[\"Intercept\"] = 1\n",
    "totalCounty[\"MedianAge*LogPop\"] = totalCounty[\"Median Age\"] * totalCounty[\"LogPop\"]\n",
    "totalCounty[\"MedianAge*Obesity\"] = totalCounty[\"Median Age\"] * totalCounty[\"Adult.obesity\"]\n",
    "totalCounty[\"MedianWage*Republicans2012\"] = totalCounty[\"Median Earnings 2010\"] * totalCounty[\"Republicans 2012\"]\n",
    "totalCounty[\"White*LogPop\"] = totalCounty[\"White\"] * totalCounty[\"LogPop\"]"
   ]
  },
  {
   "cell_type": "markdown",
   "metadata": {},
   "source": [
    "## Linear Regression"
   ]
  },
  {
   "cell_type": "code",
   "execution_count": 352,
   "metadata": {},
   "outputs": [
    {
     "data": {
      "text/plain": [
       "2.495805686790034"
      ]
     },
     "execution_count": 352,
     "metadata": {},
     "output_type": "execute_result"
    }
   ],
   "source": [
    "cols = [\"Intercept\", \"Month\", \"Median Age\", \"Adult.obesity\", \"Diabetes\", \"White\", \"Less Than High School Diploma\", \"LogBachelors\", \"LogPop\", \"Median Earnings 2010\", \"YearsPast2012\", \"Adult.smoking\", \"Republicans 2012\", \"BenefitsPerPerson\", \"School Enrollment\", \"MedianAge*LogPop\", \"MedianAge*Obesity\", \"MedianWage*Republicans2012\", \"White*LogPop\"]\n",
    "X = totalCounty[cols].dropna()\n",
    "y = np.array(totalCounty['LogSPC'].loc[X.index])\n",
    "X = np.array(pd.get_dummies(X, drop_first=True))\n",
    "\n",
    "b = np.linalg.inv(X.T@X)@X.T@y\n",
    "\n",
    "np.sqrt(((np.e**y - np.e**(X@b))**2).mean())"
   ]
  },
  {
   "cell_type": "markdown",
   "metadata": {},
   "source": [
    "## Cross Validation"
   ]
  },
  {
   "cell_type": "code",
   "execution_count": 353,
   "metadata": {},
   "outputs": [],
   "source": [
    "indices = [i for i in range(X.shape[0])]\n",
    "group_size = X.shape[0] // 4\n",
    "groups = []\n",
    "\n",
    "for i in range(3):\n",
    "    cur_group = random.sample(indices, group_size)\n",
    "    groups.append(cur_group)\n",
    "    for ind in cur_group:\n",
    "        indices.remove(ind)\n",
    "        \n",
    "groups.append(indices)"
   ]
  },
  {
   "cell_type": "code",
   "execution_count": 354,
   "metadata": {},
   "outputs": [
    {
     "data": {
      "text/plain": [
       "2.5031954382763115"
      ]
     },
     "execution_count": 354,
     "metadata": {},
     "output_type": "execute_result"
    }
   ],
   "source": [
    "scores = []\n",
    "for i in range(4):\n",
    "    train_inds = sum([groups[j] for j in range(len(groups)) if j != i], [])\n",
    "    X_train = X[train_inds]\n",
    "    X_test = X[groups[i]]\n",
    "    y_train = y[train_inds]\n",
    "    y_test = y[groups[i]]\n",
    "    \n",
    "    b = np.linalg.inv(X_train.T@X_train)@X_train.T@y_train\n",
    "    scores.append(np.sqrt(((np.e**y_test - np.e**(X_test@b))**2).mean()))\n",
    "    \n",
    "np.mean(scores)"
   ]
  },
  {
   "cell_type": "markdown",
   "metadata": {},
   "source": [
    "## AIC Score"
   ]
  },
  {
   "cell_type": "code",
   "execution_count": 355,
   "metadata": {},
   "outputs": [
    {
     "data": {
      "text/plain": [
       "36479.43176921048"
      ]
     },
     "execution_count": 355,
     "metadata": {},
     "output_type": "execute_result"
    }
   ],
   "source": [
    "indices = [i for i in range(X.shape[0])]\n",
    "group_size = X.shape[0] // 4\n",
    "groups = []\n",
    "\n",
    "for i in range(3):\n",
    "    cur_group = random.sample(indices, group_size)\n",
    "    groups.append(cur_group)\n",
    "    for ind in cur_group:\n",
    "        indices.remove(ind)\n",
    "        \n",
    "groups.append(indices)\n",
    "\n",
    "aic_scores = []\n",
    "for i in range(4):\n",
    "    train_inds = sum([groups[j] for j in range(len(groups)) if j != i], [])\n",
    "    X_train = X[train_inds]\n",
    "    X_test = X[groups[i]]\n",
    "    y_train = y[train_inds]\n",
    "    y_test = y[groups[i]]\n",
    "    \n",
    "    b = np.linalg.inv(X_train.T@X_train)@X_train.T@y_train\n",
    "    residuals = np.e**y_test - np.e**(X_test@b)\n",
    "    aic_scores.append(np.std(residuals)*(residuals**2).sum() + 2*X_train.shape[1])\n",
    "    \n",
    "np.mean(aic_scores)"
   ]
  },
  {
   "cell_type": "markdown",
   "metadata": {},
   "source": [
    "## Calculate R^2"
   ]
  },
  {
   "cell_type": "code",
   "execution_count": 356,
   "metadata": {},
   "outputs": [
    {
     "data": {
      "text/plain": [
       "0.47656861352488433"
      ]
     },
     "execution_count": 356,
     "metadata": {},
     "output_type": "execute_result"
    }
   ],
   "source": [
    "predictions = np.e**(X@b)\n",
    "actual = np.e**y\n",
    "\n",
    "ssTot = ((actual.mean() - actual)**2).sum()\n",
    "ssRes = ((predictions - actual)**2).sum()\n",
    "\n",
    "R2 = 1 - ssRes/ssTot\n",
    "R2"
   ]
  },
  {
   "cell_type": "code",
   "execution_count": 357,
   "metadata": {},
   "outputs": [],
   "source": [
    "res = pd.DataFrame({\"Predictions\": predictions, \"Actual\": actual})"
   ]
  },
  {
   "cell_type": "code",
   "execution_count": 358,
   "metadata": {},
   "outputs": [
    {
     "data": {
      "text/plain": [
       "<matplotlib.axes._subplots.AxesSubplot at 0x7fbbf01a5cd0>"
      ]
     },
     "execution_count": 358,
     "metadata": {},
     "output_type": "execute_result"
    },
    {
     "data": {
      "image/png": "[encoded data removed]",
      "text/plain": [
       "<Figure size 432x288 with 1 Axes>"
      ]
     },
     "metadata": {
      "needs_background": "light"
     },
     "output_type": "display_data"
    }
   ],
   "source": [
    "res.plot.scatter(\"Predictions\", \"Actual\")"
   ]
  },
  {
   "cell_type": "code",
   "execution_count": null,
   "metadata": {},
   "outputs": [],
   "source": []
  }
 ],
 "metadata": {
  "kernelspec": {
   "display_name": "Python 3",
   "language": "python",
   "name": "python3"
  },
  "language_info": {
   "codemirror_mode": {
    "name": "ipython",
    "version": 3
   },
   "file_extension": ".py",
   "mimetype": "text/x-python",
   "name": "python",
   "nbconvert_exporter": "python",
   "pygments_lexer": "ipython3",
   "version": "3.7.6"
  }
 },
 "nbformat": 4,
 "nbformat_minor": 4
}
