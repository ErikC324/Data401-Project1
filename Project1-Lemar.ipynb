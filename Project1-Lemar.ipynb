{
 "cells": [
  {
   "cell_type": "markdown",
   "metadata": {},
   "source": [
    "## Imports and Reading Datasets"
   ]
  },
  {
   "cell_type": "code",
   "execution_count": 3,
   "metadata": {},
   "outputs": [
    {
     "name": "stderr",
     "output_type": "stream",
     "text": [
      "/home/ubuntu/anaconda3/lib/python3.8/site-packages/IPython/core/interactiveshell.py:3071: DtypeWarning: Columns (6,14) have mixed types.Specify dtype option on import or set low_memory=False.\n",
      "  has_raised = await self.run_ast_nodes(code_ast.body, cell_name,\n"
     ]
    }
   ],
   "source": [
    "from uszipcode import SearchEngine\n",
    "import pandas as pd\n",
    "import numpy as np\n",
    "import random\n",
    "\n",
    "search = SearchEngine(simple_zipcode=True)\n",
    "df = pd.read_csv('./datasets/iowaliquor.csv')[['Date', 'Store Name', 'Zip Code', 'Sale (Dollars)', 'County']]"
   ]
  },
  {
   "cell_type": "code",
   "execution_count": 4,
   "metadata": {},
   "outputs": [],
   "source": [
    "# get 2016 election data and filter for Iowa results only \n",
    "election_df = pd.read_csv('./datasets/usa-2016-presidential-election-by-county.csv', sep=';')\n",
    "election_df = election_df[election_df['State'] == 'Iowa']"
   ]
  },
  {
   "cell_type": "code",
   "execution_count": 25,
   "metadata": {},
   "outputs": [
    {
     "data": {
      "text/plain": [
       "63     11.9\n",
       "90     10.3\n",
       "127    13.2\n",
       "140    10.4\n",
       "177    12.4\n",
       "Name: Less Than High School Diploma, dtype: float64"
      ]
     },
     "execution_count": 25,
     "metadata": {},
     "output_type": "execute_result"
    }
   ],
   "source": [
    "# delete this\n",
    "election_df.head()['Less Than High School Diploma']"
   ]
  },
  {
   "cell_type": "markdown",
   "metadata": {},
   "source": [
    "## Fill Missing Zip Codes"
   ]
  },
  {
   "cell_type": "code",
   "execution_count": 5,
   "metadata": {},
   "outputs": [],
   "source": [
    "unqs = df[df[\"Zip Code\"].isna()][\"Store Name\"].unique() # get unique store names\n",
    "cities = [store.split(\"/\")[-1].strip().lower() for store in unqs if \"/\" in store] # extract city name\n",
    "if \"mlk\" in cities:\n",
    "    cities.remove(\"mlk\")\n",
    "subset = df[df[\"Store Name\"].str.contains(\"/\") & (df[\"Zip Code\"].isna())] \n",
    "city_dict = {}\n",
    "for city in set(cities): # get zip code from rows with cities in store name\n",
    "    city_dict[city] = search.by_city_and_state(city, \"iowa\")[0].zipcode\n",
    "city_dict[\"mlk\"] = '50310'\n",
    "df.loc[subset.index, 'Zip Code'] = subset[\"Store Name\"].str.split(\"/\").str[-1].str.strip().str.lower().map(city_dict) "
   ]
  },
  {
   "cell_type": "markdown",
   "metadata": {},
   "source": [
    "## Aggregate and Get Zip Code Statistics"
   ]
  },
  {
   "cell_type": "code",
   "execution_count": 6,
   "metadata": {},
   "outputs": [],
   "source": [
    "df[\"YearMonth\"] = df[\"Date\"].str.split(\"/\").str[2] + \"-\" + df[\"Date\"].str.split(\"/\").str[0]\n",
    "\n",
    "df = df[df[\"Zip Code\"].notna()]\n",
    "df[\"Zip Code\"] = df[\"Zip Code\"].replace(\"712-2\", 51529) \n",
    "df[\"Zip Code\"] = df[\"Zip Code\"].astype(int) \n",
    "\n",
    "countyDict = {}\n",
    "popDict = {}\n",
    "\n",
    "for zc in df[\"Zip Code\"].unique():\n",
    "    stats = search.by_zipcode(zc)\n",
    "    if stats.state == \"IA\":\n",
    "        countyDict[zc] = stats.county\n",
    "        popDict[zc] = stats.population"
   ]
  },
  {
   "cell_type": "code",
   "execution_count": 27,
   "metadata": {},
   "outputs": [
    {
     "data": {
      "text/html": [
       "<div>\n",
       "<style scoped>\n",
       "    .dataframe tbody tr th:only-of-type {\n",
       "        vertical-align: middle;\n",
       "    }\n",
       "\n",
       "    .dataframe tbody tr th {\n",
       "        vertical-align: top;\n",
       "    }\n",
       "\n",
       "    .dataframe thead th {\n",
       "        text-align: right;\n",
       "    }\n",
       "</style>\n",
       "<table border=\"1\" class=\"dataframe\">\n",
       "  <thead>\n",
       "    <tr style=\"text-align: right;\">\n",
       "      <th></th>\n",
       "      <th>Date</th>\n",
       "      <th>Store Name</th>\n",
       "      <th>Zip Code</th>\n",
       "      <th>Sale (Dollars)</th>\n",
       "      <th>County</th>\n",
       "      <th>YearMonth</th>\n",
       "    </tr>\n",
       "  </thead>\n",
       "  <tbody>\n",
       "    <tr>\n",
       "      <th>0</th>\n",
       "      <td>10/04/2012</td>\n",
       "      <td>Kum &amp; Go #573 / SE 14th DM</td>\n",
       "      <td>50315</td>\n",
       "      <td>17.25</td>\n",
       "      <td>Polk</td>\n",
       "      <td>2012-10</td>\n",
       "    </tr>\n",
       "    <tr>\n",
       "      <th>1</th>\n",
       "      <td>12/20/2014</td>\n",
       "      <td>Roy's Foodland</td>\n",
       "      <td>52332</td>\n",
       "      <td>27.66</td>\n",
       "      <td>Benton</td>\n",
       "      <td>2014-12</td>\n",
       "    </tr>\n",
       "    <tr>\n",
       "      <th>2</th>\n",
       "      <td>09/09/2013</td>\n",
       "      <td>Wal-Mart 1528 / Cedar Rapids</td>\n",
       "      <td>52402</td>\n",
       "      <td>134.76</td>\n",
       "      <td>Linn</td>\n",
       "      <td>2013-09</td>\n",
       "    </tr>\n",
       "    <tr>\n",
       "      <th>3</th>\n",
       "      <td>12/12/2012</td>\n",
       "      <td>No Frills Supermarkets #803 / Glenwo</td>\n",
       "      <td>51534</td>\n",
       "      <td>495.60</td>\n",
       "      <td>Mills</td>\n",
       "      <td>2012-12</td>\n",
       "    </tr>\n",
       "    <tr>\n",
       "      <th>4</th>\n",
       "      <td>10/14/2015</td>\n",
       "      <td>Hy-Vee Food Store / Sioux City</td>\n",
       "      <td>51106</td>\n",
       "      <td>121.56</td>\n",
       "      <td>Woodbury</td>\n",
       "      <td>2015-10</td>\n",
       "    </tr>\n",
       "  </tbody>\n",
       "</table>\n",
       "</div>"
      ],
      "text/plain": [
       "         Date                            Store Name  Zip Code  Sale (Dollars)  \\\n",
       "0  10/04/2012            Kum & Go #573 / SE 14th DM     50315           17.25   \n",
       "1  12/20/2014                        Roy's Foodland     52332           27.66   \n",
       "2  09/09/2013          Wal-Mart 1528 / Cedar Rapids     52402          134.76   \n",
       "3  12/12/2012  No Frills Supermarkets #803 / Glenwo     51534          495.60   \n",
       "4  10/14/2015        Hy-Vee Food Store / Sioux City     51106          121.56   \n",
       "\n",
       "     County YearMonth  \n",
       "0      Polk   2012-10  \n",
       "1    Benton   2014-12  \n",
       "2      Linn   2013-09  \n",
       "3     Mills   2012-12  \n",
       "4  Woodbury   2015-10  "
      ]
     },
     "execution_count": 27,
     "metadata": {},
     "output_type": "execute_result"
    }
   ],
   "source": [
    "df.head()"
   ]
  },
  {
   "cell_type": "code",
   "execution_count": 7,
   "metadata": {},
   "outputs": [],
   "source": [
    "totalZip = pd.DataFrame(df.groupby([\"YearMonth\", \"Zip Code\"])[\"Sale (Dollars)\"].sum())\n",
    "totalZip.reset_index(inplace=True)\n",
    "totalZip[\"Population\"] = totalZip[\"Zip Code\"].map(popDict)"
   ]
  },
  {
   "cell_type": "markdown",
   "metadata": {},
   "source": [
    "## County Aggregate & Add Election Data"
   ]
  },
  {
   "cell_type": "code",
   "execution_count": 8,
   "metadata": {},
   "outputs": [],
   "source": [
    "totalZip[\"County\"] = totalZip[\"Zip Code\"].map(countyDict)\n",
    "totalZip.dropna(inplace=True)\n",
    "totalCounty = pd.DataFrame(totalZip.groupby([\"YearMonth\", \"County\"])[\"Sale (Dollars)\"].sum())\n",
    "totalCounty.reset_index(inplace=True)\n",
    "totalCounty[\"Month\"] = totalCounty[\"YearMonth\"].str.split(\"-\").str[-1]\n",
    "\n",
    "election_df[\"County\"] = election_df[\"County\"].str.replace(', Iowa', \"\")\n",
    "totalCounty = totalCounty.merge(election_df, on=\"County\")\n",
    "totalCounty[\"SalesPerCapita\"] = totalCounty[\"Sale (Dollars)\"] / totalCounty[\"Total Population\"]"
   ]
  },
  {
   "cell_type": "code",
   "execution_count": 26,
   "metadata": {},
   "outputs": [
    {
     "data": {
      "text/html": [
       "<div>\n",
       "<style scoped>\n",
       "    .dataframe tbody tr th:only-of-type {\n",
       "        vertical-align: middle;\n",
       "    }\n",
       "\n",
       "    .dataframe tbody tr th {\n",
       "        vertical-align: top;\n",
       "    }\n",
       "\n",
       "    .dataframe thead th {\n",
       "        text-align: right;\n",
       "    }\n",
       "</style>\n",
       "<table border=\"1\" class=\"dataframe\">\n",
       "  <thead>\n",
       "    <tr style=\"text-align: right;\">\n",
       "      <th></th>\n",
       "      <th>YearMonth</th>\n",
       "      <th>Zip Code</th>\n",
       "      <th>Sale (Dollars)</th>\n",
       "      <th>Population</th>\n",
       "      <th>County</th>\n",
       "    </tr>\n",
       "  </thead>\n",
       "  <tbody>\n",
       "    <tr>\n",
       "      <th>0</th>\n",
       "      <td>2012-01</td>\n",
       "      <td>50002</td>\n",
       "      <td>2865.89</td>\n",
       "      <td>1297.0</td>\n",
       "      <td>Adair County</td>\n",
       "    </tr>\n",
       "    <tr>\n",
       "      <th>1</th>\n",
       "      <td>2012-01</td>\n",
       "      <td>50003</td>\n",
       "      <td>12127.81</td>\n",
       "      <td>6594.0</td>\n",
       "      <td>Dallas County</td>\n",
       "    </tr>\n",
       "    <tr>\n",
       "      <th>2</th>\n",
       "      <td>2012-01</td>\n",
       "      <td>50006</td>\n",
       "      <td>8519.98</td>\n",
       "      <td>1676.0</td>\n",
       "      <td>Hardin County</td>\n",
       "    </tr>\n",
       "    <tr>\n",
       "      <th>3</th>\n",
       "      <td>2012-01</td>\n",
       "      <td>50009</td>\n",
       "      <td>90278.27</td>\n",
       "      <td>16136.0</td>\n",
       "      <td>Polk County</td>\n",
       "    </tr>\n",
       "    <tr>\n",
       "      <th>4</th>\n",
       "      <td>2012-01</td>\n",
       "      <td>50010</td>\n",
       "      <td>386395.66</td>\n",
       "      <td>29359.0</td>\n",
       "      <td>Story County</td>\n",
       "    </tr>\n",
       "  </tbody>\n",
       "</table>\n",
       "</div>"
      ],
      "text/plain": [
       "  YearMonth  Zip Code  Sale (Dollars)  Population         County\n",
       "0   2012-01     50002         2865.89      1297.0   Adair County\n",
       "1   2012-01     50003        12127.81      6594.0  Dallas County\n",
       "2   2012-01     50006         8519.98      1676.0  Hardin County\n",
       "3   2012-01     50009        90278.27     16136.0    Polk County\n",
       "4   2012-01     50010       386395.66     29359.0   Story County"
      ]
     },
     "execution_count": 26,
     "metadata": {},
     "output_type": "execute_result"
    }
   ],
   "source": [
    "totalZip.head()"
   ]
  },
  {
   "cell_type": "markdown",
   "metadata": {},
   "source": [
    "## Unemployment Data"
   ]
  },
  {
   "cell_type": "code",
   "execution_count": 10,
   "metadata": {},
   "outputs": [],
   "source": [
    "totalCounty = pd.read_csv(\"totalCounty.csv\").drop(\"Unnamed: 0\", axis=1)\n",
    "totalCounty[\"Year\"] = totalCounty[\"YearMonth\"].str.split(\"-\").str[0]\n",
    "unemployment_df = pd.read_csv(\"./datasets/iowa_unemployment.csv\")\n",
    "unemployment_df.rename(columns={\"County Name\": \"County\"}, inplace=True)\n",
    "unemployment_df[\"Year\"] = unemployment_df[\"Year\"].astype(str)\n",
    "unemployment_df[\"County\"] = unemployment_df[\"County\"] + \" County\"\n",
    "totalCounty = pd.merge(totalCounty, unemployment_df,  how='left', left_on=['County','Year'], right_on = ['County','Year'])"
   ]
  },
  {
   "cell_type": "code",
   "execution_count": 20,
   "metadata": {},
   "outputs": [
    {
     "data": {
      "text/html": [
       "<div>\n",
       "<style scoped>\n",
       "    .dataframe tbody tr th:only-of-type {\n",
       "        vertical-align: middle;\n",
       "    }\n",
       "\n",
       "    .dataframe tbody tr th {\n",
       "        vertical-align: top;\n",
       "    }\n",
       "\n",
       "    .dataframe thead th {\n",
       "        text-align: right;\n",
       "    }\n",
       "</style>\n",
       "<table border=\"1\" class=\"dataframe\">\n",
       "  <thead>\n",
       "    <tr style=\"text-align: right;\">\n",
       "      <th></th>\n",
       "      <th>Year</th>\n",
       "      <th>County</th>\n",
       "      <th>Benefits Paid</th>\n",
       "      <th>Weeks Compensated</th>\n",
       "      <th>Recipients</th>\n",
       "      <th>First Payments</th>\n",
       "      <th>Final Payments</th>\n",
       "      <th>County FIP</th>\n",
       "      <th>GNIS Feature ID</th>\n",
       "      <th>Primary Lat Dec</th>\n",
       "      <th>Primary Long Dec</th>\n",
       "      <th>Primary County Coordinates</th>\n",
       "    </tr>\n",
       "  </thead>\n",
       "  <tbody>\n",
       "    <tr>\n",
       "      <th>0</th>\n",
       "      <td>2019</td>\n",
       "      <td>Worth County</td>\n",
       "      <td>971612</td>\n",
       "      <td>2529</td>\n",
       "      <td>290</td>\n",
       "      <td>234</td>\n",
       "      <td>32</td>\n",
       "      <td>19195</td>\n",
       "      <td>465286</td>\n",
       "      <td>43.377398</td>\n",
       "      <td>-93.260848</td>\n",
       "      <td>POINT (-93.2608476 43.3773984)</td>\n",
       "    </tr>\n",
       "    <tr>\n",
       "      <th>1</th>\n",
       "      <td>2019</td>\n",
       "      <td>Woodbury County</td>\n",
       "      <td>10148200</td>\n",
       "      <td>25818</td>\n",
       "      <td>2505</td>\n",
       "      <td>2060</td>\n",
       "      <td>463</td>\n",
       "      <td>19193</td>\n",
       "      <td>465285</td>\n",
       "      <td>42.389717</td>\n",
       "      <td>-96.044767</td>\n",
       "      <td>POINT (-96.0447673 42.3897169)</td>\n",
       "    </tr>\n",
       "    <tr>\n",
       "      <th>2</th>\n",
       "      <td>2019</td>\n",
       "      <td>Wright County</td>\n",
       "      <td>1175326</td>\n",
       "      <td>3132</td>\n",
       "      <td>336</td>\n",
       "      <td>293</td>\n",
       "      <td>73</td>\n",
       "      <td>19197</td>\n",
       "      <td>465287</td>\n",
       "      <td>42.733119</td>\n",
       "      <td>-93.735146</td>\n",
       "      <td>POINT (-93.7351465 42.7331189)</td>\n",
       "    </tr>\n",
       "    <tr>\n",
       "      <th>3</th>\n",
       "      <td>2019</td>\n",
       "      <td>Winneshiek County</td>\n",
       "      <td>2764203</td>\n",
       "      <td>6775</td>\n",
       "      <td>574</td>\n",
       "      <td>508</td>\n",
       "      <td>101</td>\n",
       "      <td>19191</td>\n",
       "      <td>465284</td>\n",
       "      <td>43.290675</td>\n",
       "      <td>-91.843707</td>\n",
       "      <td>POINT (-91.8437074 43.2906746)</td>\n",
       "    </tr>\n",
       "    <tr>\n",
       "      <th>4</th>\n",
       "      <td>2019</td>\n",
       "      <td>Winnebago County</td>\n",
       "      <td>1251960</td>\n",
       "      <td>3657</td>\n",
       "      <td>560</td>\n",
       "      <td>503</td>\n",
       "      <td>56</td>\n",
       "      <td>19189</td>\n",
       "      <td>465283</td>\n",
       "      <td>43.377568</td>\n",
       "      <td>-93.734195</td>\n",
       "      <td>POINT (-93.7341955 43.37756780000001)</td>\n",
       "    </tr>\n",
       "  </tbody>\n",
       "</table>\n",
       "</div>"
      ],
      "text/plain": [
       "   Year             County  Benefits Paid  Weeks Compensated  Recipients  \\\n",
       "0  2019       Worth County         971612               2529         290   \n",
       "1  2019    Woodbury County       10148200              25818        2505   \n",
       "2  2019      Wright County        1175326               3132         336   \n",
       "3  2019  Winneshiek County        2764203               6775         574   \n",
       "4  2019   Winnebago County        1251960               3657         560   \n",
       "\n",
       "   First Payments  Final Payments  County FIP  GNIS Feature ID  \\\n",
       "0             234              32       19195           465286   \n",
       "1            2060             463       19193           465285   \n",
       "2             293              73       19197           465287   \n",
       "3             508             101       19191           465284   \n",
       "4             503              56       19189           465283   \n",
       "\n",
       "   Primary Lat Dec  Primary Long Dec             Primary County Coordinates  \n",
       "0        43.377398        -93.260848         POINT (-93.2608476 43.3773984)  \n",
       "1        42.389717        -96.044767         POINT (-96.0447673 42.3897169)  \n",
       "2        42.733119        -93.735146         POINT (-93.7351465 42.7331189)  \n",
       "3        43.290675        -91.843707         POINT (-91.8437074 43.2906746)  \n",
       "4        43.377568        -93.734195  POINT (-93.7341955 43.37756780000001)  "
      ]
     },
     "execution_count": 20,
     "metadata": {},
     "output_type": "execute_result"
    }
   ],
   "source": [
    "unemployment_df.head()"
   ]
  },
  {
   "cell_type": "markdown",
   "metadata": {},
   "source": [
    "## Transform Variables"
   ]
  },
  {
   "cell_type": "code",
   "execution_count": 11,
   "metadata": {},
   "outputs": [],
   "source": [
    "totalCounty[\"LogSPC\"] = np.log(totalCounty[\"SalesPerCapita\"])\n",
    "totalCounty[\"LogBachelors\"] = np.log(totalCounty[\"At Least Bachelors's Degree\"])\n",
    "totalCounty[\"LogPop\"] = np.log(totalCounty[\"Total Population\"])\n",
    "totalCounty[\"YearsPast2012\"] = totalCounty[\"YearMonth\"].str.split(\"-\").str[0].astype(int) - 2012\n",
    "totalCounty[\"Adult.smoking\"] = totalCounty[\"Adult.smoking\"].replace(np.nan, totalCounty[\"Adult.smoking\"].mean())\n",
    "totalCounty[\"BenefitsPerPerson\"] = totalCounty[\"Benefits Paid\"] / totalCounty[\"Total Population\"]\n",
    "totalCounty[\"Month\"] = totalCounty[\"Month\"].astype(str)\n",
    "totalCounty[\"Intercept\"] = 1\n",
    "totalCounty[\"MedianAge*LogPop\"] = totalCounty[\"Median Age\"] * totalCounty[\"LogPop\"]\n",
    "totalCounty[\"MedianAge*Obesity\"] = totalCounty[\"Median Age\"] * totalCounty[\"Adult.obesity\"]\n",
    "totalCounty[\"MedianWage*Republicans2012\"] = totalCounty[\"Median Earnings 2010\"] * totalCounty[\"Republicans 2012\"]\n",
    "totalCounty[\"White*LogPop\"] = totalCounty[\"White\"] * totalCounty[\"LogPop\"]"
   ]
  },
  {
   "cell_type": "markdown",
   "metadata": {},
   "source": [
    "## Linear Regression"
   ]
  },
  {
   "cell_type": "code",
   "execution_count": 12,
   "metadata": {},
   "outputs": [
    {
     "data": {
      "text/plain": [
       "2.495805686940038"
      ]
     },
     "execution_count": 12,
     "metadata": {},
     "output_type": "execute_result"
    }
   ],
   "source": [
    "cols = [\"Intercept\", \"Month\", \"Median Age\", \"Adult.obesity\", \"Diabetes\", \"White\", \"Less Than High School Diploma\", \"LogBachelors\", \"LogPop\", \"Median Earnings 2010\", \"YearsPast2012\", \"Adult.smoking\", \"Republicans 2012\", \"BenefitsPerPerson\", \"School Enrollment\", \"MedianAge*LogPop\", \"MedianAge*Obesity\", \"MedianWage*Republicans2012\", \"White*LogPop\"]\n",
    "X = totalCounty[cols].dropna()\n",
    "y = np.array(totalCounty['LogSPC'].loc[X.index])\n",
    "X = pd.get_dummies(X, drop_first=True)\n",
    "dummy_cols = X.columns\n",
    "X = np.array(X)\n",
    "\n",
    "b = np.linalg.inv(X.T@X)@X.T@y\n",
    "\n",
    "np.sqrt(((np.e**y - np.e**(X@b))**2).mean())"
   ]
  },
  {
   "cell_type": "markdown",
   "metadata": {},
   "source": [
    "## Cross Validation"
   ]
  },
  {
   "cell_type": "code",
   "execution_count": 13,
   "metadata": {},
   "outputs": [],
   "source": [
    "indices = [i for i in range(X.shape[0])]\n",
    "group_size = X.shape[0] // 4\n",
    "groups = []\n",
    "\n",
    "for i in range(3):\n",
    "    cur_group = random.sample(indices, group_size)\n",
    "    groups.append(cur_group)\n",
    "    for ind in cur_group:\n",
    "        indices.remove(ind)\n",
    "        \n",
    "groups.append(indices)"
   ]
  },
  {
   "cell_type": "code",
   "execution_count": 14,
   "metadata": {},
   "outputs": [
    {
     "data": {
      "text/plain": [
       "2.4979047774477516"
      ]
     },
     "execution_count": 14,
     "metadata": {},
     "output_type": "execute_result"
    }
   ],
   "source": [
    "scores = []\n",
    "for i in range(4):\n",
    "    train_inds = sum([groups[j] for j in range(len(groups)) if j != i], [])\n",
    "    X_train = X[train_inds]\n",
    "    X_test = X[groups[i]]\n",
    "    y_train = y[train_inds]\n",
    "    y_test = y[groups[i]]\n",
    "    \n",
    "    b = np.linalg.inv(X_train.T@X_train)@X_train.T@y_train\n",
    "    scores.append(np.sqrt(((np.e**y_test - np.e**(X_test@b))**2).mean()))\n",
    "    \n",
    "np.mean(scores)"
   ]
  },
  {
   "cell_type": "markdown",
   "metadata": {},
   "source": [
    "## AIC Score"
   ]
  },
  {
   "cell_type": "code",
   "execution_count": 15,
   "metadata": {},
   "outputs": [
    {
     "data": {
      "text/plain": [
       "34587.264434194614"
      ]
     },
     "execution_count": 15,
     "metadata": {},
     "output_type": "execute_result"
    }
   ],
   "source": [
    "def get_aic_score(X):\n",
    "    indices = [i for i in range(X.shape[0])]\n",
    "    group_size = X.shape[0] // 4\n",
    "    groups = []\n",
    "\n",
    "    for i in range(3):\n",
    "        cur_group = random.sample(indices, group_size)\n",
    "        groups.append(cur_group)\n",
    "        for ind in cur_group:\n",
    "            indices.remove(ind)\n",
    "\n",
    "    groups.append(indices)\n",
    "\n",
    "    aic_scores = []\n",
    "    for i in range(4):\n",
    "        train_inds = sum([groups[j] for j in range(len(groups)) if j != i], [])\n",
    "        X_train = X[train_inds]\n",
    "        X_test = X[groups[i]]\n",
    "        y_train = y[train_inds]\n",
    "        y_test = y[groups[i]]\n",
    "\n",
    "        b = np.linalg.inv(X_train.T@X_train)@X_train.T@y_train\n",
    "        residuals = np.e**y_test - np.e**(X_test@b)\n",
    "        aic_scores.append((residuals**2).sum() / np.std(y_test)**2 + 2*X_train.shape[1])\n",
    "\n",
    "    return np.mean(aic_scores)\n",
    "\n",
    "get_aic_score(X)"
   ]
  },
  {
   "cell_type": "markdown",
   "metadata": {},
   "source": [
    "## Calculate R^2"
   ]
  },
  {
   "cell_type": "code",
   "execution_count": 16,
   "metadata": {},
   "outputs": [
    {
     "data": {
      "text/plain": [
       "0.47372805263994144"
      ]
     },
     "execution_count": 16,
     "metadata": {},
     "output_type": "execute_result"
    }
   ],
   "source": [
    "predictions = np.e**(X@b)\n",
    "actual = np.e**y\n",
    "\n",
    "ssTot = ((actual.mean() - actual)**2).sum()\n",
    "ssRes = ((predictions - actual)**2).sum()\n",
    "\n",
    "R2 = 1 - ssRes/ssTot\n",
    "R2"
   ]
  },
  {
   "cell_type": "markdown",
   "metadata": {},
   "source": [
    "## Slope Confidence Intervals"
   ]
  },
  {
   "cell_type": "code",
   "execution_count": 17,
   "metadata": {},
   "outputs": [
    {
     "name": "stderr",
     "output_type": "stream",
     "text": [
      "<ipython-input-17-6daf4f5ed440>:5: RuntimeWarning: divide by zero encountered in double_scalars\n",
      "  se = np.sqrt(((predictions - actual)**2).sum() / (len(actual) - 2)) / np.sqrt(((var - var.mean())**2).sum())\n"
     ]
    },
    {
     "data": {
      "text/html": [
       "<div>\n",
       "<style scoped>\n",
       "    .dataframe tbody tr th:only-of-type {\n",
       "        vertical-align: middle;\n",
       "    }\n",
       "\n",
       "    .dataframe tbody tr th {\n",
       "        vertical-align: top;\n",
       "    }\n",
       "\n",
       "    .dataframe thead th {\n",
       "        text-align: right;\n",
       "    }\n",
       "</style>\n",
       "<table border=\"1\" class=\"dataframe\">\n",
       "  <thead>\n",
       "    <tr style=\"text-align: right;\">\n",
       "      <th></th>\n",
       "      <th>Variable</th>\n",
       "      <th>Bounds</th>\n",
       "    </tr>\n",
       "  </thead>\n",
       "  <tbody>\n",
       "    <tr>\n",
       "      <th>0</th>\n",
       "      <td>Intercept</td>\n",
       "      <td>(-inf, inf)</td>\n",
       "    </tr>\n",
       "    <tr>\n",
       "      <th>1</th>\n",
       "      <td>Median Age</td>\n",
       "      <td>(-0.827416651079902, -0.7996457217695706)</td>\n",
       "    </tr>\n",
       "    <tr>\n",
       "      <th>2</th>\n",
       "      <td>Adult.obesity</td>\n",
       "      <td>(-31.89564732904746, -27.61641559918746)</td>\n",
       "    </tr>\n",
       "    <tr>\n",
       "      <th>3</th>\n",
       "      <td>Diabetes</td>\n",
       "      <td>(-5.931947947151518, 3.8908850365192977)</td>\n",
       "    </tr>\n",
       "    <tr>\n",
       "      <th>4</th>\n",
       "      <td>White</td>\n",
       "      <td>(0.09211853261714108, 0.1108785345708684)</td>\n",
       "    </tr>\n",
       "  </tbody>\n",
       "</table>\n",
       "</div>"
      ],
      "text/plain": [
       "        Variable                                     Bounds\n",
       "0      Intercept                                (-inf, inf)\n",
       "1     Median Age  (-0.827416651079902, -0.7996457217695706)\n",
       "2  Adult.obesity   (-31.89564732904746, -27.61641559918746)\n",
       "3       Diabetes   (-5.931947947151518, 3.8908850365192977)\n",
       "4          White  (0.09211853261714108, 0.1108785345708684)"
      ]
     },
     "execution_count": 17,
     "metadata": {},
     "output_type": "execute_result"
    }
   ],
   "source": [
    "bounds = []\n",
    "t = 1.96\n",
    "for i, col in enumerate(dummy_cols):\n",
    "    var = X[:,i]\n",
    "    se = np.sqrt(((predictions - actual)**2).sum() / (len(actual) - 2)) / np.sqrt(((var - var.mean())**2).sum())\n",
    "    bounds.append((b[i] - se*t, b[i] + se*t))\n",
    "    \n",
    "ci_df = pd.DataFrame({\"Variable\": dummy_cols, \"Bounds\": bounds})\n",
    "\n",
    "ci_df.head()"
   ]
  },
  {
   "cell_type": "markdown",
   "metadata": {},
   "source": [
    "## Predicted vs. Actual Plot"
   ]
  },
  {
   "cell_type": "code",
   "execution_count": 43,
   "metadata": {},
   "outputs": [],
   "source": [
    "res = pd.DataFrame({\"Predictions\": predictions, \"Actual\": actual})"
   ]
  },
  {
   "cell_type": "code",
   "execution_count": 44,
   "metadata": {},
   "outputs": [
    {
     "data": {
      "text/plain": [
       "<matplotlib.axes._subplots.AxesSubplot at 0x7f885941c390>"
      ]
     },
     "execution_count": 44,
     "metadata": {},
     "output_type": "execute_result"
    },
    {
     "data": {
      "image/png": "[encoded data removed]",
      "text/plain": [
       "<Figure size 432x288 with 1 Axes>"
      ]
     },
     "metadata": {
      "needs_background": "light"
     },
     "output_type": "display_data"
    }
   ],
   "source": [
    "res.plot.scatter(\"Predictions\", \"Actual\")"
   ]
  },
  {
   "cell_type": "markdown",
   "metadata": {},
   "source": [
    "## Model Selection"
   ]
  },
  {
   "cell_type": "code",
   "execution_count": 19,
   "metadata": {},
   "outputs": [
    {
     "name": "stdout",
     "output_type": "stream",
     "text": [
      "38069.25348853372\n"
     ]
    },
    {
     "data": {
      "text/html": [
       "<div>\n",
       "<style scoped>\n",
       "    .dataframe tbody tr th:only-of-type {\n",
       "        vertical-align: middle;\n",
       "    }\n",
       "\n",
       "    .dataframe tbody tr th {\n",
       "        vertical-align: top;\n",
       "    }\n",
       "\n",
       "    .dataframe thead th {\n",
       "        text-align: right;\n",
       "    }\n",
       "</style>\n",
       "<table border=\"1\" class=\"dataframe\">\n",
       "  <thead>\n",
       "    <tr style=\"text-align: right;\">\n",
       "      <th></th>\n",
       "      <th>Column</th>\n",
       "      <th>AIC Score</th>\n",
       "    </tr>\n",
       "  </thead>\n",
       "  <tbody>\n",
       "    <tr>\n",
       "      <th>5</th>\n",
       "      <td>White</td>\n",
       "      <td>37725.266136</td>\n",
       "    </tr>\n",
       "    <tr>\n",
       "      <th>17</th>\n",
       "      <td>White*LogPop</td>\n",
       "      <td>37892.048790</td>\n",
       "    </tr>\n",
       "    <tr>\n",
       "      <th>11</th>\n",
       "      <td>Adult.smoking</td>\n",
       "      <td>38066.319010</td>\n",
       "    </tr>\n",
       "    <tr>\n",
       "      <th>4</th>\n",
       "      <td>Diabetes</td>\n",
       "      <td>38171.061147</td>\n",
       "    </tr>\n",
       "    <tr>\n",
       "      <th>12</th>\n",
       "      <td>Republicans 2012</td>\n",
       "      <td>38183.628680</td>\n",
       "    </tr>\n",
       "    <tr>\n",
       "      <th>15</th>\n",
       "      <td>MedianAge*Obesity</td>\n",
       "      <td>38226.256886</td>\n",
       "    </tr>\n",
       "    <tr>\n",
       "      <th>3</th>\n",
       "      <td>Adult.obesity</td>\n",
       "      <td>38238.181999</td>\n",
       "    </tr>\n",
       "    <tr>\n",
       "      <th>16</th>\n",
       "      <td>MedianWage*Republicans2012</td>\n",
       "      <td>38326.250209</td>\n",
       "    </tr>\n",
       "    <tr>\n",
       "      <th>6</th>\n",
       "      <td>Less Than High School Diploma</td>\n",
       "      <td>38408.772751</td>\n",
       "    </tr>\n",
       "    <tr>\n",
       "      <th>2</th>\n",
       "      <td>Median Age</td>\n",
       "      <td>38677.563696</td>\n",
       "    </tr>\n",
       "    <tr>\n",
       "      <th>7</th>\n",
       "      <td>LogBachelors</td>\n",
       "      <td>38885.264758</td>\n",
       "    </tr>\n",
       "    <tr>\n",
       "      <th>9</th>\n",
       "      <td>Median Earnings 2010</td>\n",
       "      <td>38898.156056</td>\n",
       "    </tr>\n",
       "    <tr>\n",
       "      <th>14</th>\n",
       "      <td>MedianAge*LogPop</td>\n",
       "      <td>39457.800581</td>\n",
       "    </tr>\n",
       "    <tr>\n",
       "      <th>8</th>\n",
       "      <td>LogPop</td>\n",
       "      <td>39514.525638</td>\n",
       "    </tr>\n",
       "    <tr>\n",
       "      <th>0</th>\n",
       "      <td>Intercept</td>\n",
       "      <td>40299.052454</td>\n",
       "    </tr>\n",
       "    <tr>\n",
       "      <th>1</th>\n",
       "      <td>Month</td>\n",
       "      <td>41232.710517</td>\n",
       "    </tr>\n",
       "    <tr>\n",
       "      <th>10</th>\n",
       "      <td>YearsPast2012</td>\n",
       "      <td>41317.075608</td>\n",
       "    </tr>\n",
       "    <tr>\n",
       "      <th>13</th>\n",
       "      <td>School Enrollment</td>\n",
       "      <td>41391.737456</td>\n",
       "    </tr>\n",
       "  </tbody>\n",
       "</table>\n",
       "</div>"
      ],
      "text/plain": [
       "                           Column     AIC Score\n",
       "5                           White  37725.266136\n",
       "17                   White*LogPop  37892.048790\n",
       "11                  Adult.smoking  38066.319010\n",
       "4                        Diabetes  38171.061147\n",
       "12               Republicans 2012  38183.628680\n",
       "15              MedianAge*Obesity  38226.256886\n",
       "3                   Adult.obesity  38238.181999\n",
       "16     MedianWage*Republicans2012  38326.250209\n",
       "6   Less Than High School Diploma  38408.772751\n",
       "2                      Median Age  38677.563696\n",
       "7                    LogBachelors  38885.264758\n",
       "9            Median Earnings 2010  38898.156056\n",
       "14               MedianAge*LogPop  39457.800581\n",
       "8                          LogPop  39514.525638\n",
       "0                       Intercept  40299.052454\n",
       "1                           Month  41232.710517\n",
       "10                  YearsPast2012  41317.075608\n",
       "13              School Enrollment  41391.737456"
      ]
     },
     "metadata": {},
     "output_type": "display_data"
    },
    {
     "name": "stdout",
     "output_type": "stream",
     "text": [
      "Removed Column:  White\n",
      "37906.834736192046\n"
     ]
    },
    {
     "data": {
      "text/html": [
       "<div>\n",
       "<style scoped>\n",
       "    .dataframe tbody tr th:only-of-type {\n",
       "        vertical-align: middle;\n",
       "    }\n",
       "\n",
       "    .dataframe tbody tr th {\n",
       "        vertical-align: top;\n",
       "    }\n",
       "\n",
       "    .dataframe thead th {\n",
       "        text-align: right;\n",
       "    }\n",
       "</style>\n",
       "<table border=\"1\" class=\"dataframe\">\n",
       "  <thead>\n",
       "    <tr style=\"text-align: right;\">\n",
       "      <th></th>\n",
       "      <th>Column</th>\n",
       "      <th>AIC Score</th>\n",
       "    </tr>\n",
       "  </thead>\n",
       "  <tbody>\n",
       "    <tr>\n",
       "      <th>10</th>\n",
       "      <td>Adult.smoking</td>\n",
       "      <td>37839.430367</td>\n",
       "    </tr>\n",
       "    <tr>\n",
       "      <th>11</th>\n",
       "      <td>Republicans 2012</td>\n",
       "      <td>37955.839569</td>\n",
       "    </tr>\n",
       "    <tr>\n",
       "      <th>4</th>\n",
       "      <td>Diabetes</td>\n",
       "      <td>37967.986944</td>\n",
       "    </tr>\n",
       "    <tr>\n",
       "      <th>15</th>\n",
       "      <td>MedianWage*Republicans2012</td>\n",
       "      <td>37970.719014</td>\n",
       "    </tr>\n",
       "    <tr>\n",
       "      <th>14</th>\n",
       "      <td>MedianAge*Obesity</td>\n",
       "      <td>38179.008008</td>\n",
       "    </tr>\n",
       "    <tr>\n",
       "      <th>3</th>\n",
       "      <td>Adult.obesity</td>\n",
       "      <td>38249.829197</td>\n",
       "    </tr>\n",
       "    <tr>\n",
       "      <th>5</th>\n",
       "      <td>Less Than High School Diploma</td>\n",
       "      <td>38399.250307</td>\n",
       "    </tr>\n",
       "    <tr>\n",
       "      <th>8</th>\n",
       "      <td>Median Earnings 2010</td>\n",
       "      <td>38520.621857</td>\n",
       "    </tr>\n",
       "    <tr>\n",
       "      <th>6</th>\n",
       "      <td>LogBachelors</td>\n",
       "      <td>38744.963369</td>\n",
       "    </tr>\n",
       "    <tr>\n",
       "      <th>16</th>\n",
       "      <td>White*LogPop</td>\n",
       "      <td>38790.138513</td>\n",
       "    </tr>\n",
       "    <tr>\n",
       "      <th>2</th>\n",
       "      <td>Median Age</td>\n",
       "      <td>39152.456124</td>\n",
       "    </tr>\n",
       "    <tr>\n",
       "      <th>7</th>\n",
       "      <td>LogPop</td>\n",
       "      <td>39229.453561</td>\n",
       "    </tr>\n",
       "    <tr>\n",
       "      <th>0</th>\n",
       "      <td>Intercept</td>\n",
       "      <td>39232.276789</td>\n",
       "    </tr>\n",
       "    <tr>\n",
       "      <th>12</th>\n",
       "      <td>School Enrollment</td>\n",
       "      <td>41076.368550</td>\n",
       "    </tr>\n",
       "    <tr>\n",
       "      <th>9</th>\n",
       "      <td>YearsPast2012</td>\n",
       "      <td>41140.262590</td>\n",
       "    </tr>\n",
       "    <tr>\n",
       "      <th>1</th>\n",
       "      <td>Month</td>\n",
       "      <td>41201.484239</td>\n",
       "    </tr>\n",
       "    <tr>\n",
       "      <th>13</th>\n",
       "      <td>MedianAge*LogPop</td>\n",
       "      <td>41855.874556</td>\n",
       "    </tr>\n",
       "  </tbody>\n",
       "</table>\n",
       "</div>"
      ],
      "text/plain": [
       "                           Column     AIC Score\n",
       "10                  Adult.smoking  37839.430367\n",
       "11               Republicans 2012  37955.839569\n",
       "4                        Diabetes  37967.986944\n",
       "15     MedianWage*Republicans2012  37970.719014\n",
       "14              MedianAge*Obesity  38179.008008\n",
       "3                   Adult.obesity  38249.829197\n",
       "5   Less Than High School Diploma  38399.250307\n",
       "8            Median Earnings 2010  38520.621857\n",
       "6                    LogBachelors  38744.963369\n",
       "16                   White*LogPop  38790.138513\n",
       "2                      Median Age  39152.456124\n",
       "7                          LogPop  39229.453561\n",
       "0                       Intercept  39232.276789\n",
       "12              School Enrollment  41076.368550\n",
       "9                   YearsPast2012  41140.262590\n",
       "1                           Month  41201.484239\n",
       "13               MedianAge*LogPop  41855.874556"
      ]
     },
     "metadata": {},
     "output_type": "display_data"
    },
    {
     "name": "stdout",
     "output_type": "stream",
     "text": [
      "Removed Column:  Adult.smoking\n",
      "37733.73521100529\n"
     ]
    }
   ],
   "source": [
    "# remove unimportant variables \n",
    "cols = [\"Intercept\", \"Month\", \"Median Age\", \"Adult.obesity\", \"Diabetes\", \"White\", \"Less Than High School Diploma\", \"LogBachelors\", \"LogPop\", \"Median Earnings 2010\", \"YearsPast2012\", \"Adult.smoking\", \"Republicans 2012\", \"School Enrollment\", \"MedianAge*LogPop\", \"MedianAge*Obesity\", \"MedianWage*Republicans2012\", \"White*LogPop\"]\n",
    "done = False\n",
    "\n",
    "while not done:\n",
    "    aic_scores = []\n",
    "    X = totalCounty[cols].dropna()\n",
    "    y = np.array(totalCounty['LogSPC'].loc[X.index])\n",
    "    X = pd.get_dummies(X, drop_first=True)\n",
    "    X = np.array(X)\n",
    "    initial_aic = get_aic_score(X)\n",
    "    print(initial_aic)\n",
    "    for col in cols: \n",
    "        X = totalCounty[cols].dropna().drop(col, axis=1)\n",
    "        y = np.array(totalCounty['LogSPC'].loc[X.index])\n",
    "        X = pd.get_dummies(X, drop_first=True)\n",
    "        X = np.array(X)\n",
    "        aic_scores.append(get_aic_score(X))\n",
    "    scores = pd.DataFrame({\"Column\": cols, \"AIC Score\": aic_scores})\n",
    "    if min(aic_scores) > initial_aic:\n",
    "        done = True\n",
    "    else:\n",
    "        display(scores.sort_values(\"AIC Score\"))\n",
    "        removed_col = scores.sort_values(\"AIC Score\")[\"Column\"].iloc[0]\n",
    "        print(\"Removed Column: \", removed_col)\n",
    "        cols.remove(removed_col)"
   ]
  },
  {
   "cell_type": "code",
   "execution_count": null,
   "metadata": {},
   "outputs": [],
   "source": [
    "# "
   ]
  },
  {
   "cell_type": "code",
   "execution_count": null,
   "metadata": {},
   "outputs": [],
   "source": []
  }
 ],
 "metadata": {
  "kernelspec": {
   "display_name": "Python 3",
   "language": "python",
   "name": "python3"
  },
  "language_info": {
   "codemirror_mode": {
    "name": "ipython",
    "version": 3
   },
   "file_extension": ".py",
   "mimetype": "text/x-python",
   "name": "python",
   "nbconvert_exporter": "python",
   "pygments_lexer": "ipython3",
   "version": "3.8.3"
  }
 },
 "nbformat": 4,
 "nbformat_minor": 4
}
