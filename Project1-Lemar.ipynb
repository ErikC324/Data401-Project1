{
 "cells": [
  {
   "cell_type": "markdown",
   "metadata": {},
   "source": [
    "## Imports and Reading Datasets"
   ]
  },
  {
   "cell_type": "code",
   "execution_count": 1,
   "metadata": {},
   "outputs": [
    {
     "name": "stderr",
     "output_type": "stream",
     "text": [
      "/home/ubuntu/anaconda3/lib/python3.8/site-packages/IPython/core/interactiveshell.py:3071: DtypeWarning: Columns (6,14) have mixed types.Specify dtype option on import or set low_memory=False.\n",
      "  has_raised = await self.run_ast_nodes(code_ast.body, cell_name,\n"
     ]
    }
   ],
   "source": [
    "from uszipcode import SearchEngine\n",
    "import pandas as pd\n",
    "import numpy as np\n",
    "import random\n",
    "\n",
    "search = SearchEngine(simple_zipcode=True)\n",
    "df = pd.read_csv('./datasets/iowaliquor.csv')[['Date', 'Store Name', 'Zip Code', 'Sale (Dollars)', 'County']]"
   ]
  },
  {
   "cell_type": "code",
   "execution_count": 2,
   "metadata": {},
   "outputs": [],
   "source": [
    "# get 2016 election data and filter for Iowa results only \n",
    "election_df = pd.read_csv('./datasets/usa-2016-presidential-election-by-county.csv', sep=';')\n",
    "election_df = election_df[election_df['State'] == 'Iowa']"
   ]
  },
  {
   "cell_type": "code",
   "execution_count": 1,
   "metadata": {},
   "outputs": [
    {
     "ename": "NameError",
     "evalue": "name 'election_df' is not defined",
     "output_type": "error",
     "traceback": [
      "\u001b[0;31m---------------------------------------------------------------------------\u001b[0m",
      "\u001b[0;31mNameError\u001b[0m                                 Traceback (most recent call last)",
      "\u001b[0;32m<ipython-input-1-e9af17bb155a>\u001b[0m in \u001b[0;36m<module>\u001b[0;34m\u001b[0m\n\u001b[1;32m      1\u001b[0m \u001b[0;31m# delete this\u001b[0m\u001b[0;34m\u001b[0m\u001b[0;34m\u001b[0m\u001b[0;34m\u001b[0m\u001b[0m\n\u001b[0;32m----> 2\u001b[0;31m \u001b[0melection_df\u001b[0m\u001b[0;34m.\u001b[0m\u001b[0mhead\u001b[0m\u001b[0;34m(\u001b[0m\u001b[0;34m)\u001b[0m\u001b[0;34m[\u001b[0m\u001b[0;34m'Less Than High School Diploma'\u001b[0m\u001b[0;34m]\u001b[0m\u001b[0;34m\u001b[0m\u001b[0;34m\u001b[0m\u001b[0m\n\u001b[0m",
      "\u001b[0;31mNameError\u001b[0m: name 'election_df' is not defined"
     ]
    }
   ],
   "source": [
    "# delete this\n",
    "election_df.head()['Less Than High School Diploma']"
   ]
  },
  {
   "cell_type": "markdown",
   "metadata": {},
   "source": [
    "## Fill Missing Zip Codes"
   ]
  },
  {
   "cell_type": "code",
   "execution_count": 4,
   "metadata": {},
   "outputs": [],
   "source": [
    "unqs = df[df[\"Zip Code\"].isna()][\"Store Name\"].unique() # get unique store names\n",
    "cities = [store.split(\"/\")[-1].strip().lower() for store in unqs if \"/\" in store] # extract city name\n",
    "if \"mlk\" in cities:\n",
    "    cities.remove(\"mlk\")\n",
    "subset = df[df[\"Store Name\"].str.contains(\"/\") & (df[\"Zip Code\"].isna())] \n",
    "city_dict = {}\n",
    "for city in set(cities): # get zip code from rows with cities in store name\n",
    "    city_dict[city] = search.by_city_and_state(city, \"iowa\")[0].zipcode\n",
    "city_dict[\"mlk\"] = '50310'\n",
    "df.loc[subset.index, 'Zip Code'] = subset[\"Store Name\"].str.split(\"/\").str[-1].str.strip().str.lower().map(city_dict) "
   ]
  },
  {
   "cell_type": "markdown",
   "metadata": {},
   "source": [
    "## Aggregate and Get Zip Code Statistics"
   ]
  },
  {
   "cell_type": "code",
   "execution_count": 5,
   "metadata": {},
   "outputs": [],
   "source": [
    "df[\"YearMonth\"] = df[\"Date\"].str.split(\"/\").str[2] + \"-\" + df[\"Date\"].str.split(\"/\").str[0]\n",
    "\n",
    "df = df[df[\"Zip Code\"].notna()]\n",
    "df[\"Zip Code\"] = df[\"Zip Code\"].replace(\"712-2\", 51529) \n",
    "df[\"Zip Code\"] = df[\"Zip Code\"].astype(int) \n",
    "\n",
    "countyDict = {}\n",
    "popDict = {}\n",
    "\n",
    "for zc in df[\"Zip Code\"].unique():\n",
    "    stats = search.by_zipcode(zc)\n",
    "    if stats.state == \"IA\":\n",
    "        countyDict[zc] = stats.county\n",
    "        popDict[zc] = stats.population"
   ]
  },
  {
   "cell_type": "code",
   "execution_count": 6,
   "metadata": {},
   "outputs": [
    {
     "data": {
      "text/html": [
       "<div>\n",
       "<style scoped>\n",
       "    .dataframe tbody tr th:only-of-type {\n",
       "        vertical-align: middle;\n",
       "    }\n",
       "\n",
       "    .dataframe tbody tr th {\n",
       "        vertical-align: top;\n",
       "    }\n",
       "\n",
       "    .dataframe thead th {\n",
       "        text-align: right;\n",
       "    }\n",
       "</style>\n",
       "<table border=\"1\" class=\"dataframe\">\n",
       "  <thead>\n",
       "    <tr style=\"text-align: right;\">\n",
       "      <th></th>\n",
       "      <th>Date</th>\n",
       "      <th>Store Name</th>\n",
       "      <th>Zip Code</th>\n",
       "      <th>Sale (Dollars)</th>\n",
       "      <th>County</th>\n",
       "      <th>YearMonth</th>\n",
       "    </tr>\n",
       "  </thead>\n",
       "  <tbody>\n",
       "    <tr>\n",
       "      <th>0</th>\n",
       "      <td>10/04/2012</td>\n",
       "      <td>Kum &amp; Go #573 / SE 14th DM</td>\n",
       "      <td>50315</td>\n",
       "      <td>17.25</td>\n",
       "      <td>Polk</td>\n",
       "      <td>2012-10</td>\n",
       "    </tr>\n",
       "    <tr>\n",
       "      <th>1</th>\n",
       "      <td>12/20/2014</td>\n",
       "      <td>Roy's Foodland</td>\n",
       "      <td>52332</td>\n",
       "      <td>27.66</td>\n",
       "      <td>Benton</td>\n",
       "      <td>2014-12</td>\n",
       "    </tr>\n",
       "    <tr>\n",
       "      <th>2</th>\n",
       "      <td>09/09/2013</td>\n",
       "      <td>Wal-Mart 1528 / Cedar Rapids</td>\n",
       "      <td>52402</td>\n",
       "      <td>134.76</td>\n",
       "      <td>Linn</td>\n",
       "      <td>2013-09</td>\n",
       "    </tr>\n",
       "    <tr>\n",
       "      <th>3</th>\n",
       "      <td>12/12/2012</td>\n",
       "      <td>No Frills Supermarkets #803 / Glenwo</td>\n",
       "      <td>51534</td>\n",
       "      <td>495.60</td>\n",
       "      <td>Mills</td>\n",
       "      <td>2012-12</td>\n",
       "    </tr>\n",
       "    <tr>\n",
       "      <th>4</th>\n",
       "      <td>10/14/2015</td>\n",
       "      <td>Hy-Vee Food Store / Sioux City</td>\n",
       "      <td>51106</td>\n",
       "      <td>121.56</td>\n",
       "      <td>Woodbury</td>\n",
       "      <td>2015-10</td>\n",
       "    </tr>\n",
       "  </tbody>\n",
       "</table>\n",
       "</div>"
      ],
      "text/plain": [
       "         Date                            Store Name  Zip Code  Sale (Dollars)  \\\n",
       "0  10/04/2012            Kum & Go #573 / SE 14th DM     50315           17.25   \n",
       "1  12/20/2014                        Roy's Foodland     52332           27.66   \n",
       "2  09/09/2013          Wal-Mart 1528 / Cedar Rapids     52402          134.76   \n",
       "3  12/12/2012  No Frills Supermarkets #803 / Glenwo     51534          495.60   \n",
       "4  10/14/2015        Hy-Vee Food Store / Sioux City     51106          121.56   \n",
       "\n",
       "     County YearMonth  \n",
       "0      Polk   2012-10  \n",
       "1    Benton   2014-12  \n",
       "2      Linn   2013-09  \n",
       "3     Mills   2012-12  \n",
       "4  Woodbury   2015-10  "
      ]
     },
     "execution_count": 6,
     "metadata": {},
     "output_type": "execute_result"
    }
   ],
   "source": [
    "df.head()"
   ]
  },
  {
   "cell_type": "code",
   "execution_count": 7,
   "metadata": {},
   "outputs": [],
   "source": [
    "totalZip = pd.DataFrame(df.groupby([\"YearMonth\", \"Zip Code\"])[\"Sale (Dollars)\"].sum())\n",
    "totalZip.reset_index(inplace=True)\n",
    "totalZip[\"Population\"] = totalZip[\"Zip Code\"].map(popDict)"
   ]
  },
  {
   "cell_type": "markdown",
   "metadata": {},
   "source": [
    "## County Aggregate & Add Election Data"
   ]
  },
  {
   "cell_type": "code",
   "execution_count": 8,
   "metadata": {},
   "outputs": [],
   "source": [
    "totalZip[\"County\"] = totalZip[\"Zip Code\"].map(countyDict)\n",
    "totalZip.dropna(inplace=True)\n",
    "totalCounty = pd.DataFrame(totalZip.groupby([\"YearMonth\", \"County\"])[\"Sale (Dollars)\"].sum())\n",
    "totalCounty.reset_index(inplace=True)\n",
    "totalCounty[\"Month\"] = totalCounty[\"YearMonth\"].str.split(\"-\").str[-1]\n",
    "\n",
    "election_df[\"County\"] = election_df[\"County\"].str.replace(', Iowa', \"\")\n",
    "totalCounty = totalCounty.merge(election_df, on=\"County\")\n",
    "totalCounty[\"SalesPerCapita\"] = totalCounty[\"Sale (Dollars)\"] / totalCounty[\"Total Population\"]"
   ]
  },
  {
   "cell_type": "code",
   "execution_count": 9,
   "metadata": {},
   "outputs": [
    {
     "data": {
      "text/html": [
       "<div>\n",
       "<style scoped>\n",
       "    .dataframe tbody tr th:only-of-type {\n",
       "        vertical-align: middle;\n",
       "    }\n",
       "\n",
       "    .dataframe tbody tr th {\n",
       "        vertical-align: top;\n",
       "    }\n",
       "\n",
       "    .dataframe thead th {\n",
       "        text-align: right;\n",
       "    }\n",
       "</style>\n",
       "<table border=\"1\" class=\"dataframe\">\n",
       "  <thead>\n",
       "    <tr style=\"text-align: right;\">\n",
       "      <th></th>\n",
       "      <th>YearMonth</th>\n",
       "      <th>Zip Code</th>\n",
       "      <th>Sale (Dollars)</th>\n",
       "      <th>Population</th>\n",
       "      <th>County</th>\n",
       "    </tr>\n",
       "  </thead>\n",
       "  <tbody>\n",
       "    <tr>\n",
       "      <th>0</th>\n",
       "      <td>2012-01</td>\n",
       "      <td>50002</td>\n",
       "      <td>2865.89</td>\n",
       "      <td>1297.0</td>\n",
       "      <td>Adair County</td>\n",
       "    </tr>\n",
       "    <tr>\n",
       "      <th>1</th>\n",
       "      <td>2012-01</td>\n",
       "      <td>50003</td>\n",
       "      <td>12127.81</td>\n",
       "      <td>6594.0</td>\n",
       "      <td>Dallas County</td>\n",
       "    </tr>\n",
       "    <tr>\n",
       "      <th>2</th>\n",
       "      <td>2012-01</td>\n",
       "      <td>50006</td>\n",
       "      <td>8519.98</td>\n",
       "      <td>1676.0</td>\n",
       "      <td>Hardin County</td>\n",
       "    </tr>\n",
       "    <tr>\n",
       "      <th>3</th>\n",
       "      <td>2012-01</td>\n",
       "      <td>50009</td>\n",
       "      <td>90278.27</td>\n",
       "      <td>16136.0</td>\n",
       "      <td>Polk County</td>\n",
       "    </tr>\n",
       "    <tr>\n",
       "      <th>4</th>\n",
       "      <td>2012-01</td>\n",
       "      <td>50010</td>\n",
       "      <td>386395.66</td>\n",
       "      <td>29359.0</td>\n",
       "      <td>Story County</td>\n",
       "    </tr>\n",
       "  </tbody>\n",
       "</table>\n",
       "</div>"
      ],
      "text/plain": [
       "  YearMonth  Zip Code  Sale (Dollars)  Population         County\n",
       "0   2012-01     50002         2865.89      1297.0   Adair County\n",
       "1   2012-01     50003        12127.81      6594.0  Dallas County\n",
       "2   2012-01     50006         8519.98      1676.0  Hardin County\n",
       "3   2012-01     50009        90278.27     16136.0    Polk County\n",
       "4   2012-01     50010       386395.66     29359.0   Story County"
      ]
     },
     "execution_count": 9,
     "metadata": {},
     "output_type": "execute_result"
    }
   ],
   "source": [
    "totalZip.head()"
   ]
  },
  {
   "cell_type": "code",
   "execution_count": 10,
   "metadata": {},
   "outputs": [
    {
     "data": {
      "text/html": [
       "<div>\n",
       "<style scoped>\n",
       "    .dataframe tbody tr th:only-of-type {\n",
       "        vertical-align: middle;\n",
       "    }\n",
       "\n",
       "    .dataframe tbody tr th {\n",
       "        vertical-align: top;\n",
       "    }\n",
       "\n",
       "    .dataframe thead th {\n",
       "        text-align: right;\n",
       "    }\n",
       "</style>\n",
       "<table border=\"1\" class=\"dataframe\">\n",
       "  <thead>\n",
       "    <tr style=\"text-align: right;\">\n",
       "      <th></th>\n",
       "      <th>YearMonth</th>\n",
       "      <th>County</th>\n",
       "      <th>Sale (Dollars)</th>\n",
       "      <th>Month</th>\n",
       "      <th>State</th>\n",
       "      <th>ST</th>\n",
       "      <th>Fips</th>\n",
       "      <th>Precincts</th>\n",
       "      <th>Votes</th>\n",
       "      <th>Democrats 08 (Votes)</th>\n",
       "      <th>...</th>\n",
       "      <th>total12</th>\n",
       "      <th>other08</th>\n",
       "      <th>other12</th>\n",
       "      <th>Other12 Frac</th>\n",
       "      <th>Other08 Frac</th>\n",
       "      <th>Rep12 Frac2</th>\n",
       "      <th>Rep08 Frac2</th>\n",
       "      <th>Dem12 Frac2</th>\n",
       "      <th>Dem08 Frac2</th>\n",
       "      <th>SalesPerCapita</th>\n",
       "    </tr>\n",
       "  </thead>\n",
       "  <tbody>\n",
       "    <tr>\n",
       "      <th>0</th>\n",
       "      <td>2012-01</td>\n",
       "      <td>Adair County</td>\n",
       "      <td>15988.30</td>\n",
       "      <td>01</td>\n",
       "      <td>Iowa</td>\n",
       "      <td>IA</td>\n",
       "      <td>19001</td>\n",
       "      <td>6.0</td>\n",
       "      <td>3759.0</td>\n",
       "      <td>1924.0</td>\n",
       "      <td>...</td>\n",
       "      <td>3996.0</td>\n",
       "      <td>69.0</td>\n",
       "      <td>92.0</td>\n",
       "      <td>0.023023</td>\n",
       "      <td>0.017024</td>\n",
       "      <td>0.541496</td>\n",
       "      <td>0.517068</td>\n",
       "      <td>0.458504</td>\n",
       "      <td>0.482932</td>\n",
       "      <td>2.098753</td>\n",
       "    </tr>\n",
       "    <tr>\n",
       "      <th>1</th>\n",
       "      <td>2012-02</td>\n",
       "      <td>Adair County</td>\n",
       "      <td>17596.63</td>\n",
       "      <td>02</td>\n",
       "      <td>Iowa</td>\n",
       "      <td>IA</td>\n",
       "      <td>19001</td>\n",
       "      <td>6.0</td>\n",
       "      <td>3759.0</td>\n",
       "      <td>1924.0</td>\n",
       "      <td>...</td>\n",
       "      <td>3996.0</td>\n",
       "      <td>69.0</td>\n",
       "      <td>92.0</td>\n",
       "      <td>0.023023</td>\n",
       "      <td>0.017024</td>\n",
       "      <td>0.541496</td>\n",
       "      <td>0.517068</td>\n",
       "      <td>0.458504</td>\n",
       "      <td>0.482932</td>\n",
       "      <td>2.309875</td>\n",
       "    </tr>\n",
       "    <tr>\n",
       "      <th>2</th>\n",
       "      <td>2012-03</td>\n",
       "      <td>Adair County</td>\n",
       "      <td>14380.75</td>\n",
       "      <td>03</td>\n",
       "      <td>Iowa</td>\n",
       "      <td>IA</td>\n",
       "      <td>19001</td>\n",
       "      <td>6.0</td>\n",
       "      <td>3759.0</td>\n",
       "      <td>1924.0</td>\n",
       "      <td>...</td>\n",
       "      <td>3996.0</td>\n",
       "      <td>69.0</td>\n",
       "      <td>92.0</td>\n",
       "      <td>0.023023</td>\n",
       "      <td>0.017024</td>\n",
       "      <td>0.541496</td>\n",
       "      <td>0.517068</td>\n",
       "      <td>0.458504</td>\n",
       "      <td>0.482932</td>\n",
       "      <td>1.887733</td>\n",
       "    </tr>\n",
       "    <tr>\n",
       "      <th>3</th>\n",
       "      <td>2012-04</td>\n",
       "      <td>Adair County</td>\n",
       "      <td>18161.12</td>\n",
       "      <td>04</td>\n",
       "      <td>Iowa</td>\n",
       "      <td>IA</td>\n",
       "      <td>19001</td>\n",
       "      <td>6.0</td>\n",
       "      <td>3759.0</td>\n",
       "      <td>1924.0</td>\n",
       "      <td>...</td>\n",
       "      <td>3996.0</td>\n",
       "      <td>69.0</td>\n",
       "      <td>92.0</td>\n",
       "      <td>0.023023</td>\n",
       "      <td>0.017024</td>\n",
       "      <td>0.541496</td>\n",
       "      <td>0.517068</td>\n",
       "      <td>0.458504</td>\n",
       "      <td>0.482932</td>\n",
       "      <td>2.383975</td>\n",
       "    </tr>\n",
       "    <tr>\n",
       "      <th>4</th>\n",
       "      <td>2012-05</td>\n",
       "      <td>Adair County</td>\n",
       "      <td>18881.41</td>\n",
       "      <td>05</td>\n",
       "      <td>Iowa</td>\n",
       "      <td>IA</td>\n",
       "      <td>19001</td>\n",
       "      <td>6.0</td>\n",
       "      <td>3759.0</td>\n",
       "      <td>1924.0</td>\n",
       "      <td>...</td>\n",
       "      <td>3996.0</td>\n",
       "      <td>69.0</td>\n",
       "      <td>92.0</td>\n",
       "      <td>0.023023</td>\n",
       "      <td>0.017024</td>\n",
       "      <td>0.541496</td>\n",
       "      <td>0.517068</td>\n",
       "      <td>0.458504</td>\n",
       "      <td>0.482932</td>\n",
       "      <td>2.478526</td>\n",
       "    </tr>\n",
       "  </tbody>\n",
       "</table>\n",
       "<p>5 rows × 163 columns</p>\n",
       "</div>"
      ],
      "text/plain": [
       "  YearMonth        County  Sale (Dollars) Month State  ST   Fips  Precincts  \\\n",
       "0   2012-01  Adair County        15988.30    01  Iowa  IA  19001        6.0   \n",
       "1   2012-02  Adair County        17596.63    02  Iowa  IA  19001        6.0   \n",
       "2   2012-03  Adair County        14380.75    03  Iowa  IA  19001        6.0   \n",
       "3   2012-04  Adair County        18161.12    04  Iowa  IA  19001        6.0   \n",
       "4   2012-05  Adair County        18881.41    05  Iowa  IA  19001        6.0   \n",
       "\n",
       "    Votes  Democrats 08 (Votes)  ...  total12  other08  other12  Other12 Frac  \\\n",
       "0  3759.0                1924.0  ...   3996.0     69.0     92.0      0.023023   \n",
       "1  3759.0                1924.0  ...   3996.0     69.0     92.0      0.023023   \n",
       "2  3759.0                1924.0  ...   3996.0     69.0     92.0      0.023023   \n",
       "3  3759.0                1924.0  ...   3996.0     69.0     92.0      0.023023   \n",
       "4  3759.0                1924.0  ...   3996.0     69.0     92.0      0.023023   \n",
       "\n",
       "   Other08 Frac  Rep12 Frac2  Rep08 Frac2  Dem12 Frac2  Dem08 Frac2  \\\n",
       "0      0.017024     0.541496     0.517068     0.458504     0.482932   \n",
       "1      0.017024     0.541496     0.517068     0.458504     0.482932   \n",
       "2      0.017024     0.541496     0.517068     0.458504     0.482932   \n",
       "3      0.017024     0.541496     0.517068     0.458504     0.482932   \n",
       "4      0.017024     0.541496     0.517068     0.458504     0.482932   \n",
       "\n",
       "   SalesPerCapita  \n",
       "0        2.098753  \n",
       "1        2.309875  \n",
       "2        1.887733  \n",
       "3        2.383975  \n",
       "4        2.478526  \n",
       "\n",
       "[5 rows x 163 columns]"
      ]
     },
     "execution_count": 10,
     "metadata": {},
     "output_type": "execute_result"
    }
   ],
   "source": [
    "totalCounty.head()"
   ]
  },
  {
   "cell_type": "markdown",
   "metadata": {},
   "source": [
    "## Unemployment Data"
   ]
  },
  {
   "cell_type": "code",
   "execution_count": 11,
   "metadata": {},
   "outputs": [],
   "source": [
    "totalCounty = pd.read_csv(\"totalCounty.csv\").drop(\"Unnamed: 0\", axis=1)\n",
    "totalCounty[\"Year\"] = totalCounty[\"YearMonth\"].str.split(\"-\").str[0]\n",
    "unemployment_df = pd.read_csv(\"./datasets/iowa_unemployment.csv\")\n",
    "unemployment_df.rename(columns={\"County Name\": \"County\"}, inplace=True)\n",
    "unemployment_df[\"Year\"] = unemployment_df[\"Year\"].astype(str)\n",
    "unemployment_df[\"County\"] = unemployment_df[\"County\"] + \" County\"\n",
    "totalCounty = pd.merge(totalCounty, unemployment_df,  how='left', left_on=['County','Year'], right_on = ['County','Year'])"
   ]
  },
  {
   "cell_type": "code",
   "execution_count": 12,
   "metadata": {},
   "outputs": [
    {
     "data": {
      "text/html": [
       "<div>\n",
       "<style scoped>\n",
       "    .dataframe tbody tr th:only-of-type {\n",
       "        vertical-align: middle;\n",
       "    }\n",
       "\n",
       "    .dataframe tbody tr th {\n",
       "        vertical-align: top;\n",
       "    }\n",
       "\n",
       "    .dataframe thead th {\n",
       "        text-align: right;\n",
       "    }\n",
       "</style>\n",
       "<table border=\"1\" class=\"dataframe\">\n",
       "  <thead>\n",
       "    <tr style=\"text-align: right;\">\n",
       "      <th></th>\n",
       "      <th>Year</th>\n",
       "      <th>County</th>\n",
       "      <th>Benefits Paid</th>\n",
       "      <th>Weeks Compensated</th>\n",
       "      <th>Recipients</th>\n",
       "      <th>First Payments</th>\n",
       "      <th>Final Payments</th>\n",
       "      <th>County FIP</th>\n",
       "      <th>GNIS Feature ID</th>\n",
       "      <th>Primary Lat Dec</th>\n",
       "      <th>Primary Long Dec</th>\n",
       "      <th>Primary County Coordinates</th>\n",
       "    </tr>\n",
       "  </thead>\n",
       "  <tbody>\n",
       "    <tr>\n",
       "      <th>0</th>\n",
       "      <td>2019</td>\n",
       "      <td>Worth County</td>\n",
       "      <td>971612</td>\n",
       "      <td>2529</td>\n",
       "      <td>290</td>\n",
       "      <td>234</td>\n",
       "      <td>32</td>\n",
       "      <td>19195</td>\n",
       "      <td>465286</td>\n",
       "      <td>43.377398</td>\n",
       "      <td>-93.260848</td>\n",
       "      <td>POINT (-93.2608476 43.3773984)</td>\n",
       "    </tr>\n",
       "    <tr>\n",
       "      <th>1</th>\n",
       "      <td>2019</td>\n",
       "      <td>Woodbury County</td>\n",
       "      <td>10148200</td>\n",
       "      <td>25818</td>\n",
       "      <td>2505</td>\n",
       "      <td>2060</td>\n",
       "      <td>463</td>\n",
       "      <td>19193</td>\n",
       "      <td>465285</td>\n",
       "      <td>42.389717</td>\n",
       "      <td>-96.044767</td>\n",
       "      <td>POINT (-96.0447673 42.3897169)</td>\n",
       "    </tr>\n",
       "    <tr>\n",
       "      <th>2</th>\n",
       "      <td>2019</td>\n",
       "      <td>Wright County</td>\n",
       "      <td>1175326</td>\n",
       "      <td>3132</td>\n",
       "      <td>336</td>\n",
       "      <td>293</td>\n",
       "      <td>73</td>\n",
       "      <td>19197</td>\n",
       "      <td>465287</td>\n",
       "      <td>42.733119</td>\n",
       "      <td>-93.735146</td>\n",
       "      <td>POINT (-93.7351465 42.7331189)</td>\n",
       "    </tr>\n",
       "    <tr>\n",
       "      <th>3</th>\n",
       "      <td>2019</td>\n",
       "      <td>Winneshiek County</td>\n",
       "      <td>2764203</td>\n",
       "      <td>6775</td>\n",
       "      <td>574</td>\n",
       "      <td>508</td>\n",
       "      <td>101</td>\n",
       "      <td>19191</td>\n",
       "      <td>465284</td>\n",
       "      <td>43.290675</td>\n",
       "      <td>-91.843707</td>\n",
       "      <td>POINT (-91.8437074 43.2906746)</td>\n",
       "    </tr>\n",
       "    <tr>\n",
       "      <th>4</th>\n",
       "      <td>2019</td>\n",
       "      <td>Winnebago County</td>\n",
       "      <td>1251960</td>\n",
       "      <td>3657</td>\n",
       "      <td>560</td>\n",
       "      <td>503</td>\n",
       "      <td>56</td>\n",
       "      <td>19189</td>\n",
       "      <td>465283</td>\n",
       "      <td>43.377568</td>\n",
       "      <td>-93.734195</td>\n",
       "      <td>POINT (-93.7341955 43.37756780000001)</td>\n",
       "    </tr>\n",
       "  </tbody>\n",
       "</table>\n",
       "</div>"
      ],
      "text/plain": [
       "   Year             County  Benefits Paid  Weeks Compensated  Recipients  \\\n",
       "0  2019       Worth County         971612               2529         290   \n",
       "1  2019    Woodbury County       10148200              25818        2505   \n",
       "2  2019      Wright County        1175326               3132         336   \n",
       "3  2019  Winneshiek County        2764203               6775         574   \n",
       "4  2019   Winnebago County        1251960               3657         560   \n",
       "\n",
       "   First Payments  Final Payments  County FIP  GNIS Feature ID  \\\n",
       "0             234              32       19195           465286   \n",
       "1            2060             463       19193           465285   \n",
       "2             293              73       19197           465287   \n",
       "3             508             101       19191           465284   \n",
       "4             503              56       19189           465283   \n",
       "\n",
       "   Primary Lat Dec  Primary Long Dec             Primary County Coordinates  \n",
       "0        43.377398        -93.260848         POINT (-93.2608476 43.3773984)  \n",
       "1        42.389717        -96.044767         POINT (-96.0447673 42.3897169)  \n",
       "2        42.733119        -93.735146         POINT (-93.7351465 42.7331189)  \n",
       "3        43.290675        -91.843707         POINT (-91.8437074 43.2906746)  \n",
       "4        43.377568        -93.734195  POINT (-93.7341955 43.37756780000001)  "
      ]
     },
     "execution_count": 12,
     "metadata": {},
     "output_type": "execute_result"
    }
   ],
   "source": [
    "unemployment_df.head()"
   ]
  },
  {
   "cell_type": "markdown",
   "metadata": {},
   "source": [
    "## Rural Counties Data"
   ]
  },
  {
   "cell_type": "code",
   "execution_count": 13,
   "metadata": {},
   "outputs": [
    {
     "data": {
      "text/html": [
       "<div>\n",
       "<style scoped>\n",
       "    .dataframe tbody tr th:only-of-type {\n",
       "        vertical-align: middle;\n",
       "    }\n",
       "\n",
       "    .dataframe tbody tr th {\n",
       "        vertical-align: top;\n",
       "    }\n",
       "\n",
       "    .dataframe thead th {\n",
       "        text-align: right;\n",
       "    }\n",
       "</style>\n",
       "<table border=\"1\" class=\"dataframe\">\n",
       "  <thead>\n",
       "    <tr style=\"text-align: right;\">\n",
       "      <th></th>\n",
       "      <th>FIPS code</th>\n",
       "      <th>County Name</th>\n",
       "      <th>Population Estimate 2016</th>\n",
       "      <th>Urban-Rural Designation</th>\n",
       "    </tr>\n",
       "  </thead>\n",
       "  <tbody>\n",
       "    <tr>\n",
       "      <th>0</th>\n",
       "      <td>19001</td>\n",
       "      <td>Adair</td>\n",
       "      <td>7,676</td>\n",
       "      <td>Rural</td>\n",
       "    </tr>\n",
       "    <tr>\n",
       "      <th>1</th>\n",
       "      <td>19003</td>\n",
       "      <td>Adams</td>\n",
       "      <td>4,028</td>\n",
       "      <td>Rural</td>\n",
       "    </tr>\n",
       "    <tr>\n",
       "      <th>2</th>\n",
       "      <td>19005</td>\n",
       "      <td>Allamakee</td>\n",
       "      <td>14,347</td>\n",
       "      <td>Rural</td>\n",
       "    </tr>\n",
       "    <tr>\n",
       "      <th>3</th>\n",
       "      <td>19007</td>\n",
       "      <td>Appanoose</td>\n",
       "      <td>12,883</td>\n",
       "      <td>Rural</td>\n",
       "    </tr>\n",
       "    <tr>\n",
       "      <th>4</th>\n",
       "      <td>19009</td>\n",
       "      <td>Audubon</td>\n",
       "      <td>6,115</td>\n",
       "      <td>Rural</td>\n",
       "    </tr>\n",
       "  </tbody>\n",
       "</table>\n",
       "</div>"
      ],
      "text/plain": [
       "   FIPS code County Name Population Estimate 2016 Urban-Rural Designation\n",
       "0      19001       Adair                    7,676                   Rural\n",
       "1      19003       Adams                    4,028                   Rural\n",
       "2      19005   Allamakee                   14,347                   Rural\n",
       "3      19007   Appanoose                   12,883                   Rural\n",
       "4      19009     Audubon                    6,115                   Rural"
      ]
     },
     "execution_count": 13,
     "metadata": {},
     "output_type": "execute_result"
    }
   ],
   "source": [
    "rural_counties_df = pd.read_csv(\"./datasets/rural_counties.csv\")\n",
    "rural_counties_df.head()"
   ]
  },
  {
   "cell_type": "code",
   "execution_count": 14,
   "metadata": {},
   "outputs": [],
   "source": [
    "rural_counties_df = rural_counties_df[[\"FIPS code\", \"Urban-Rural Designation\"]]\n",
    "# designation_dict = dict(zip(rural_counties_df[\"County Name\"], rural_counties_df[\"Urban-Rural Designation\"]))"
   ]
  },
  {
   "cell_type": "code",
   "execution_count": 15,
   "metadata": {},
   "outputs": [
    {
     "data": {
      "text/html": [
       "<div>\n",
       "<style scoped>\n",
       "    .dataframe tbody tr th:only-of-type {\n",
       "        vertical-align: middle;\n",
       "    }\n",
       "\n",
       "    .dataframe tbody tr th {\n",
       "        vertical-align: top;\n",
       "    }\n",
       "\n",
       "    .dataframe thead th {\n",
       "        text-align: right;\n",
       "    }\n",
       "</style>\n",
       "<table border=\"1\" class=\"dataframe\">\n",
       "  <thead>\n",
       "    <tr style=\"text-align: right;\">\n",
       "      <th></th>\n",
       "      <th>FIPS code</th>\n",
       "      <th>Urban-Rural Designation</th>\n",
       "    </tr>\n",
       "  </thead>\n",
       "  <tbody>\n",
       "    <tr>\n",
       "      <th>0</th>\n",
       "      <td>19001</td>\n",
       "      <td>Rural</td>\n",
       "    </tr>\n",
       "    <tr>\n",
       "      <th>1</th>\n",
       "      <td>19003</td>\n",
       "      <td>Rural</td>\n",
       "    </tr>\n",
       "    <tr>\n",
       "      <th>2</th>\n",
       "      <td>19005</td>\n",
       "      <td>Rural</td>\n",
       "    </tr>\n",
       "    <tr>\n",
       "      <th>3</th>\n",
       "      <td>19007</td>\n",
       "      <td>Rural</td>\n",
       "    </tr>\n",
       "    <tr>\n",
       "      <th>4</th>\n",
       "      <td>19009</td>\n",
       "      <td>Rural</td>\n",
       "    </tr>\n",
       "  </tbody>\n",
       "</table>\n",
       "</div>"
      ],
      "text/plain": [
       "   FIPS code Urban-Rural Designation\n",
       "0      19001                   Rural\n",
       "1      19003                   Rural\n",
       "2      19005                   Rural\n",
       "3      19007                   Rural\n",
       "4      19009                   Rural"
      ]
     },
     "execution_count": 15,
     "metadata": {},
     "output_type": "execute_result"
    }
   ],
   "source": [
    "rural_counties_df.head()"
   ]
  },
  {
   "cell_type": "code",
   "execution_count": 16,
   "metadata": {},
   "outputs": [
    {
     "data": {
      "text/plain": [
       "(10280, 174)"
      ]
     },
     "execution_count": 16,
     "metadata": {},
     "output_type": "execute_result"
    }
   ],
   "source": [
    "totalCounty.shape"
   ]
  },
  {
   "cell_type": "code",
   "execution_count": 17,
   "metadata": {},
   "outputs": [],
   "source": [
    "# temp -> total county\n",
    "temp = totalCounty.merge(rural_counties_df, how=\"left\", left_on=\"Fips\", right_on=\"FIPS code\", left_index=True)"
   ]
  },
  {
   "cell_type": "code",
   "execution_count": 18,
   "metadata": {},
   "outputs": [
    {
     "data": {
      "text/plain": [
       "(10280, 176)"
      ]
     },
     "execution_count": 18,
     "metadata": {},
     "output_type": "execute_result"
    }
   ],
   "source": [
    "temp.shape"
   ]
  },
  {
   "cell_type": "code",
   "execution_count": 19,
   "metadata": {},
   "outputs": [
    {
     "data": {
      "text/html": [
       "<div>\n",
       "<style scoped>\n",
       "    .dataframe tbody tr th:only-of-type {\n",
       "        vertical-align: middle;\n",
       "    }\n",
       "\n",
       "    .dataframe tbody tr th {\n",
       "        vertical-align: top;\n",
       "    }\n",
       "\n",
       "    .dataframe thead th {\n",
       "        text-align: right;\n",
       "    }\n",
       "</style>\n",
       "<table border=\"1\" class=\"dataframe\">\n",
       "  <thead>\n",
       "    <tr style=\"text-align: right;\">\n",
       "      <th></th>\n",
       "      <th>YearMonth</th>\n",
       "      <th>County</th>\n",
       "      <th>Sale (Dollars)</th>\n",
       "      <th>Month</th>\n",
       "      <th>State</th>\n",
       "      <th>ST</th>\n",
       "      <th>Fips</th>\n",
       "      <th>Precincts</th>\n",
       "      <th>Votes</th>\n",
       "      <th>Democrats 08 (Votes)</th>\n",
       "      <th>...</th>\n",
       "      <th>Recipients</th>\n",
       "      <th>First Payments</th>\n",
       "      <th>Final Payments</th>\n",
       "      <th>County FIP</th>\n",
       "      <th>GNIS Feature ID</th>\n",
       "      <th>Primary Lat Dec</th>\n",
       "      <th>Primary Long Dec</th>\n",
       "      <th>Primary County Coordinates</th>\n",
       "      <th>FIPS code</th>\n",
       "      <th>Urban-Rural Designation</th>\n",
       "    </tr>\n",
       "  </thead>\n",
       "  <tbody>\n",
       "    <tr>\n",
       "      <th>0</th>\n",
       "      <td>2012-01</td>\n",
       "      <td>Adair County</td>\n",
       "      <td>15988.30</td>\n",
       "      <td>1</td>\n",
       "      <td>Iowa</td>\n",
       "      <td>IA</td>\n",
       "      <td>19001</td>\n",
       "      <td>6.0</td>\n",
       "      <td>3759.0</td>\n",
       "      <td>1924.0</td>\n",
       "      <td>...</td>\n",
       "      <td>314.0</td>\n",
       "      <td>251.0</td>\n",
       "      <td>64.0</td>\n",
       "      <td>19001.0</td>\n",
       "      <td>465190.0</td>\n",
       "      <td>41.330746</td>\n",
       "      <td>-94.470941</td>\n",
       "      <td>POINT (-94.4709413 41.3307464)</td>\n",
       "      <td>19001</td>\n",
       "      <td>Rural</td>\n",
       "    </tr>\n",
       "    <tr>\n",
       "      <th>0</th>\n",
       "      <td>2012-02</td>\n",
       "      <td>Adair County</td>\n",
       "      <td>17596.63</td>\n",
       "      <td>2</td>\n",
       "      <td>Iowa</td>\n",
       "      <td>IA</td>\n",
       "      <td>19001</td>\n",
       "      <td>6.0</td>\n",
       "      <td>3759.0</td>\n",
       "      <td>1924.0</td>\n",
       "      <td>...</td>\n",
       "      <td>314.0</td>\n",
       "      <td>251.0</td>\n",
       "      <td>64.0</td>\n",
       "      <td>19001.0</td>\n",
       "      <td>465190.0</td>\n",
       "      <td>41.330746</td>\n",
       "      <td>-94.470941</td>\n",
       "      <td>POINT (-94.4709413 41.3307464)</td>\n",
       "      <td>19001</td>\n",
       "      <td>Rural</td>\n",
       "    </tr>\n",
       "    <tr>\n",
       "      <th>0</th>\n",
       "      <td>2012-03</td>\n",
       "      <td>Adair County</td>\n",
       "      <td>14380.75</td>\n",
       "      <td>3</td>\n",
       "      <td>Iowa</td>\n",
       "      <td>IA</td>\n",
       "      <td>19001</td>\n",
       "      <td>6.0</td>\n",
       "      <td>3759.0</td>\n",
       "      <td>1924.0</td>\n",
       "      <td>...</td>\n",
       "      <td>314.0</td>\n",
       "      <td>251.0</td>\n",
       "      <td>64.0</td>\n",
       "      <td>19001.0</td>\n",
       "      <td>465190.0</td>\n",
       "      <td>41.330746</td>\n",
       "      <td>-94.470941</td>\n",
       "      <td>POINT (-94.4709413 41.3307464)</td>\n",
       "      <td>19001</td>\n",
       "      <td>Rural</td>\n",
       "    </tr>\n",
       "    <tr>\n",
       "      <th>0</th>\n",
       "      <td>2012-04</td>\n",
       "      <td>Adair County</td>\n",
       "      <td>18161.12</td>\n",
       "      <td>4</td>\n",
       "      <td>Iowa</td>\n",
       "      <td>IA</td>\n",
       "      <td>19001</td>\n",
       "      <td>6.0</td>\n",
       "      <td>3759.0</td>\n",
       "      <td>1924.0</td>\n",
       "      <td>...</td>\n",
       "      <td>314.0</td>\n",
       "      <td>251.0</td>\n",
       "      <td>64.0</td>\n",
       "      <td>19001.0</td>\n",
       "      <td>465190.0</td>\n",
       "      <td>41.330746</td>\n",
       "      <td>-94.470941</td>\n",
       "      <td>POINT (-94.4709413 41.3307464)</td>\n",
       "      <td>19001</td>\n",
       "      <td>Rural</td>\n",
       "    </tr>\n",
       "    <tr>\n",
       "      <th>0</th>\n",
       "      <td>2012-05</td>\n",
       "      <td>Adair County</td>\n",
       "      <td>18881.41</td>\n",
       "      <td>5</td>\n",
       "      <td>Iowa</td>\n",
       "      <td>IA</td>\n",
       "      <td>19001</td>\n",
       "      <td>6.0</td>\n",
       "      <td>3759.0</td>\n",
       "      <td>1924.0</td>\n",
       "      <td>...</td>\n",
       "      <td>314.0</td>\n",
       "      <td>251.0</td>\n",
       "      <td>64.0</td>\n",
       "      <td>19001.0</td>\n",
       "      <td>465190.0</td>\n",
       "      <td>41.330746</td>\n",
       "      <td>-94.470941</td>\n",
       "      <td>POINT (-94.4709413 41.3307464)</td>\n",
       "      <td>19001</td>\n",
       "      <td>Rural</td>\n",
       "    </tr>\n",
       "  </tbody>\n",
       "</table>\n",
       "<p>5 rows × 176 columns</p>\n",
       "</div>"
      ],
      "text/plain": [
       "  YearMonth        County  Sale (Dollars)  Month State  ST   Fips  Precincts  \\\n",
       "0   2012-01  Adair County        15988.30      1  Iowa  IA  19001        6.0   \n",
       "0   2012-02  Adair County        17596.63      2  Iowa  IA  19001        6.0   \n",
       "0   2012-03  Adair County        14380.75      3  Iowa  IA  19001        6.0   \n",
       "0   2012-04  Adair County        18161.12      4  Iowa  IA  19001        6.0   \n",
       "0   2012-05  Adair County        18881.41      5  Iowa  IA  19001        6.0   \n",
       "\n",
       "    Votes  Democrats 08 (Votes)  ...  Recipients  First Payments  \\\n",
       "0  3759.0                1924.0  ...       314.0           251.0   \n",
       "0  3759.0                1924.0  ...       314.0           251.0   \n",
       "0  3759.0                1924.0  ...       314.0           251.0   \n",
       "0  3759.0                1924.0  ...       314.0           251.0   \n",
       "0  3759.0                1924.0  ...       314.0           251.0   \n",
       "\n",
       "   Final Payments  County FIP  GNIS Feature ID  Primary Lat Dec  \\\n",
       "0            64.0     19001.0         465190.0        41.330746   \n",
       "0            64.0     19001.0         465190.0        41.330746   \n",
       "0            64.0     19001.0         465190.0        41.330746   \n",
       "0            64.0     19001.0         465190.0        41.330746   \n",
       "0            64.0     19001.0         465190.0        41.330746   \n",
       "\n",
       "   Primary Long Dec      Primary County Coordinates  FIPS code  \\\n",
       "0        -94.470941  POINT (-94.4709413 41.3307464)      19001   \n",
       "0        -94.470941  POINT (-94.4709413 41.3307464)      19001   \n",
       "0        -94.470941  POINT (-94.4709413 41.3307464)      19001   \n",
       "0        -94.470941  POINT (-94.4709413 41.3307464)      19001   \n",
       "0        -94.470941  POINT (-94.4709413 41.3307464)      19001   \n",
       "\n",
       "   Urban-Rural Designation  \n",
       "0                    Rural  \n",
       "0                    Rural  \n",
       "0                    Rural  \n",
       "0                    Rural  \n",
       "0                    Rural  \n",
       "\n",
       "[5 rows x 176 columns]"
      ]
     },
     "execution_count": 19,
     "metadata": {},
     "output_type": "execute_result"
    }
   ],
   "source": [
    "temp.head()"
   ]
  },
  {
   "cell_type": "code",
   "execution_count": 20,
   "metadata": {},
   "outputs": [
    {
     "data": {
      "text/plain": [
       "{'FIPS code', 'Urban-Rural Designation'}"
      ]
     },
     "execution_count": 20,
     "metadata": {},
     "output_type": "execute_result"
    }
   ],
   "source": [
    "set(list(temp.columns)).difference(set(list(totalCounty.columns)))"
   ]
  },
  {
   "cell_type": "markdown",
   "metadata": {},
   "source": [
    "## Transform Variables"
   ]
  },
  {
   "cell_type": "code",
   "execution_count": 21,
   "metadata": {},
   "outputs": [],
   "source": [
    "totalCounty[\"LogSPC\"] = np.log(totalCounty[\"SalesPerCapita\"])\n",
    "totalCounty[\"LogBachelors\"] = np.log(totalCounty[\"At Least Bachelors's Degree\"])\n",
    "totalCounty[\"LogPop\"] = np.log(totalCounty[\"Total Population\"])\n",
    "totalCounty[\"YearsPast2012\"] = totalCounty[\"YearMonth\"].str.split(\"-\").str[0].astype(int) - 2012\n",
    "totalCounty[\"Adult.smoking\"] = totalCounty[\"Adult.smoking\"].replace(np.nan, totalCounty[\"Adult.smoking\"].mean())\n",
    "totalCounty[\"BenefitsPerPerson\"] = totalCounty[\"Benefits Paid\"] / totalCounty[\"Total Population\"]\n",
    "totalCounty[\"Month\"] = totalCounty[\"Month\"].astype(str)\n",
    "totalCounty[\"Intercept\"] = 1\n",
    "totalCounty[\"MedianAge*LogPop\"] = totalCounty[\"Median Age\"] * totalCounty[\"LogPop\"]\n",
    "totalCounty[\"MedianAge*Obesity\"] = totalCounty[\"Median Age\"] * totalCounty[\"Adult.obesity\"]\n",
    "totalCounty[\"MedianWage*Republicans2012\"] = totalCounty[\"Median Earnings 2010\"] * totalCounty[\"Republicans 2012\"]\n",
    "totalCounty[\"White*LogPop\"] = totalCounty[\"White\"] * totalCounty[\"LogPop\"]"
   ]
  },
  {
   "cell_type": "markdown",
   "metadata": {},
   "source": [
    "## Linear Regression"
   ]
  },
  {
   "cell_type": "code",
   "execution_count": 30,
   "metadata": {},
   "outputs": [
    {
     "name": "stdout",
     "output_type": "stream",
     "text": [
      "(29, 9393) (9393,)\n"
     ]
    },
    {
     "data": {
      "text/plain": [
       "array([ 2.75721258e+01, -8.27838359e-01, -3.01879050e+01, -6.66399272e-01,\n",
       "        1.01197097e-01, -6.23600447e-02,  2.44257722e-01, -1.04374815e+00,\n",
       "       -1.11949430e-04,  3.76143759e-02, -6.45884286e-01, -1.51847973e-02,\n",
       "       -1.34699590e-03, -4.39036165e-02,  6.99702255e-02,  6.35166773e-01,\n",
       "        8.70769139e-07, -1.33091104e-02,  3.35837714e-01,  1.43882269e-01,\n",
       "        4.18299973e-01,  4.13403179e-02,  7.31365261e-02,  1.00810881e-01,\n",
       "        2.29119346e-01,  2.17676508e-01,  1.91245824e-01,  1.76274690e-01,\n",
       "        1.26737461e-01])"
      ]
     },
     "execution_count": 30,
     "metadata": {},
     "output_type": "execute_result"
    }
   ],
   "source": [
    "print(X.T.shape, y.shape)"
   ]
  },
  {
   "cell_type": "code",
   "execution_count": 29,
   "metadata": {},
   "outputs": [
    {
     "ename": "ValueError",
     "evalue": "operands could not be broadcast together with shapes (29,9393) (9393,29) ",
     "output_type": "error",
     "traceback": [
      "\u001b[0;31m---------------------------------------------------------------------------\u001b[0m",
      "\u001b[0;31mValueError\u001b[0m                                Traceback (most recent call last)",
      "\u001b[0;32m<ipython-input-29-a1b5c5350f13>\u001b[0m in \u001b[0;36m<module>\u001b[0;34m\u001b[0m\n\u001b[0;32m----> 1\u001b[0;31m \u001b[0mnp\u001b[0m\u001b[0;34m.\u001b[0m\u001b[0mlinalg\u001b[0m\u001b[0;34m.\u001b[0m\u001b[0minv\u001b[0m\u001b[0;34m(\u001b[0m\u001b[0mX\u001b[0m\u001b[0;34m.\u001b[0m\u001b[0mT\u001b[0m\u001b[0;34m*\u001b[0m\u001b[0mX\u001b[0m\u001b[0;34m)\u001b[0m\u001b[0;34m*\u001b[0m\u001b[0mX\u001b[0m\u001b[0;34m.\u001b[0m\u001b[0mT\u001b[0m\u001b[0;34m*\u001b[0m\u001b[0my\u001b[0m\u001b[0;34m\u001b[0m\u001b[0;34m\u001b[0m\u001b[0m\n\u001b[0m",
      "\u001b[0;31mValueError\u001b[0m: operands could not be broadcast together with shapes (29,9393) (9393,29) "
     ]
    }
   ],
   "source": [
    "np.linalg.inv(X.T@X)@X.T@y"
   ]
  },
  {
   "cell_type": "code",
   "execution_count": null,
   "metadata": {},
   "outputs": [],
   "source": [
    "np.linalg.inv(X.T@X).shape"
   ]
  },
  {
   "cell_type": "code",
   "execution_count": 24,
   "metadata": {},
   "outputs": [
    {
     "data": {
      "text/plain": [
       "2.495805686940038"
      ]
     },
     "execution_count": 24,
     "metadata": {},
     "output_type": "execute_result"
    }
   ],
   "source": [
    "cols = [\"Intercept\", \"Month\", \"Median Age\", \"Adult.obesity\", \"Diabetes\", \"White\", \n",
    "        \"Less Than High School Diploma\", \"LogBachelors\", \"LogPop\", \n",
    "        \"Median Earnings 2010\", \"YearsPast2012\", \"Adult.smoking\", \"Republicans 2012\", \n",
    "        \"BenefitsPerPerson\", \"School Enrollment\", \"MedianAge*LogPop\", \n",
    "        \"MedianAge*Obesity\", \"MedianWage*Republicans2012\", \"White*LogPop\"]\n",
    "X = totalCounty[cols].dropna()\n",
    "y = np.array(totalCounty['LogSPC'].loc[X.index])\n",
    "X = pd.get_dummies(X, drop_first=True)\n",
    "dummy_cols = X.columns\n",
    "X = np.array(X)\n",
    "\n",
    "b = np.linalg.inv(X.T@X)@X.T@y\n",
    "\n",
    "np.sqrt(((np.e**y - np.e**(X@b))**2).mean())"
   ]
  },
  {
   "cell_type": "code",
   "execution_count": null,
   "metadata": {},
   "outputs": [],
   "source": [
    "totalCounty[totalCounty[\"County\"] == \"Dickinson County\"][\"SalesPerCapita\"].mean()"
   ]
  },
  {
   "cell_type": "code",
   "execution_count": null,
   "metadata": {},
   "outputs": [],
   "source": [
    "totalCounty[totalCounty[\"County\"] != \"Dickinson County\"][\"SalesPerCapita\"].mean()"
   ]
  },
  {
   "cell_type": "code",
   "execution_count": null,
   "metadata": {},
   "outputs": [],
   "source": [
    "X.shape"
   ]
  },
  {
   "cell_type": "code",
   "execution_count": null,
   "metadata": {},
   "outputs": [],
   "source": [
    "y.shape"
   ]
  },
  {
   "cell_type": "markdown",
   "metadata": {},
   "source": [
    "## Cross Validation"
   ]
  },
  {
   "cell_type": "code",
   "execution_count": null,
   "metadata": {},
   "outputs": [],
   "source": [
    "indices = [i for i in range(X.shape[0])]\n",
    "group_size = X.shape[0] // 4\n",
    "groups = []\n",
    "\n",
    "for i in range(3):\n",
    "    cur_group = random.sample(indices, group_size)\n",
    "    groups.append(cur_group)\n",
    "    for ind in cur_group:\n",
    "        indices.remove(ind)\n",
    "        \n",
    "groups.append(indices)"
   ]
  },
  {
   "cell_type": "code",
   "execution_count": null,
   "metadata": {},
   "outputs": [],
   "source": [
    "scores = []\n",
    "for i in range(4):\n",
    "    train_inds = sum([groups[j] for j in range(len(groups)) if j != i], [])\n",
    "    X_train = X[train_inds]\n",
    "    X_test = X[groups[i]]\n",
    "    y_train = y[train_inds]\n",
    "    y_test = y[groups[i]]\n",
    "    \n",
    "    b = np.linalg.inv(X_train.T@X_train)@X_train.T@y_train\n",
    "    scores.append(np.sqrt(((np.e**y_test - np.e**(X_test@b))**2).mean()))\n",
    "    \n",
    "np.mean(scores)"
   ]
  },
  {
   "cell_type": "markdown",
   "metadata": {},
   "source": [
    "## AIC Score"
   ]
  },
  {
   "cell_type": "code",
   "execution_count": null,
   "metadata": {},
   "outputs": [],
   "source": [
    "def get_aic_score(X):\n",
    "    indices = [i for i in range(X.shape[0])]\n",
    "    group_size = X.shape[0] // 4\n",
    "    groups = []\n",
    "\n",
    "    for i in range(3):\n",
    "        cur_group = random.sample(indices, group_size)\n",
    "        groups.append(cur_group)\n",
    "        for ind in cur_group:\n",
    "            indices.remove(ind)\n",
    "\n",
    "    groups.append(indices)\n",
    "\n",
    "    aic_scores = []\n",
    "    for i in range(4):\n",
    "        train_inds = sum([groups[j] for j in range(len(groups)) if j != i], [])\n",
    "        X_train = X[train_inds]\n",
    "        X_test = X[groups[i]]\n",
    "        y_train = y[train_inds]\n",
    "        y_test = y[groups[i]]\n",
    "\n",
    "        b = np.linalg.inv(X_train.T@X_train)@X_train.T@y_train\n",
    "        residuals = np.e**y_test - np.e**(X_test@b)\n",
    "        aic_scores.append((residuals**2).sum() / np.std(y_test)**2 + 2*X_train.shape[1])\n",
    "\n",
    "    return np.mean(aic_scores)\n",
    "\n",
    "get_aic_score(X)"
   ]
  },
  {
   "cell_type": "markdown",
   "metadata": {},
   "source": [
    "## Calculate R^2"
   ]
  },
  {
   "cell_type": "code",
   "execution_count": null,
   "metadata": {},
   "outputs": [],
   "source": [
    "predictions = np.e**(X@b)\n",
    "actual = np.e**y\n",
    "\n",
    "ssTot = ((actual.mean() - actual)**2).sum()\n",
    "ssRes = ((predictions - actual)**2).sum()\n",
    "\n",
    "R2 = 1 - ssRes/ssTot\n",
    "R2"
   ]
  },
  {
   "cell_type": "markdown",
   "metadata": {},
   "source": [
    "## Slope Confidence Intervals"
   ]
  },
  {
   "cell_type": "code",
   "execution_count": null,
   "metadata": {},
   "outputs": [],
   "source": [
    "bounds = []\n",
    "t = 1.96\n",
    "for i, col in enumerate(dummy_cols):\n",
    "    var = X[:,i]\n",
    "    se = np.sqrt(((predictions - actual)**2).sum() / (len(actual) - 2)) / np.sqrt(((var - var.mean())**2).sum())\n",
    "    bounds.append((b[i] - se*t, b[i] + se*t))\n",
    "    \n",
    "ci_df = pd.DataFrame({\"Variable\": dummy_cols, \"Bounds\": bounds})\n",
    "\n",
    "ci_df.head()"
   ]
  },
  {
   "cell_type": "markdown",
   "metadata": {},
   "source": [
    "## Predicted vs. Actual Plot"
   ]
  },
  {
   "cell_type": "code",
   "execution_count": null,
   "metadata": {},
   "outputs": [],
   "source": [
    "res = pd.DataFrame({\"Predictions\": predictions, \"Actual\": actual})"
   ]
  },
  {
   "cell_type": "code",
   "execution_count": null,
   "metadata": {},
   "outputs": [],
   "source": [
    "res.plot.scatter(\"Predictions\", \"Actual\")"
   ]
  },
  {
   "cell_type": "markdown",
   "metadata": {},
   "source": [
    "## Model Selection"
   ]
  },
  {
   "cell_type": "code",
   "execution_count": null,
   "metadata": {},
   "outputs": [],
   "source": [
    "# remove unimportant variables \n",
    "cols = [\"Intercept\", \"Month\", \"Median Age\", \"Adult.obesity\", \"Diabetes\", \"White\", \"Less Than High School Diploma\", \"LogBachelors\", \"LogPop\", \"Median Earnings 2010\", \"YearsPast2012\", \"Adult.smoking\", \"Republicans 2012\", \"School Enrollment\", \"MedianAge*LogPop\", \"MedianAge*Obesity\", \"MedianWage*Republicans2012\", \"White*LogPop\"]\n",
    "done = False\n",
    "\n",
    "while not done:\n",
    "    aic_scores = []\n",
    "    X = totalCounty[cols].dropna()\n",
    "    y = np.array(totalCounty['LogSPC'].loc[X.index])\n",
    "    X = pd.get_dummies(X, drop_first=True)\n",
    "    X = np.array(X)\n",
    "    initial_aic = get_aic_score(X)\n",
    "    print(initial_aic)\n",
    "    for col in cols: \n",
    "        X = totalCounty[cols].dropna().drop(col, axis=1)\n",
    "        y = np.array(totalCounty['LogSPC'].loc[X.index])\n",
    "        X = pd.get_dummies(X, drop_first=True)\n",
    "        X = np.array(X)\n",
    "        aic_scores.append(get_aic_score(X))\n",
    "    scores = pd.DataFrame({\"Column\": cols, \"AIC Score\": aic_scores})\n",
    "    if min(aic_scores) > initial_aic:\n",
    "        done = True\n",
    "    else:\n",
    "        display(scores.sort_values(\"AIC Score\"))\n",
    "        removed_col = scores.sort_values(\"AIC Score\")[\"Column\"].iloc[0]\n",
    "        print(\"Removed Column: \", removed_col)\n",
    "        cols.remove(removed_col)"
   ]
  },
  {
   "cell_type": "markdown",
   "metadata": {},
   "source": [
    "## Interesting Observations"
   ]
  },
  {
   "cell_type": "markdown",
   "metadata": {},
   "source": [
    "Dickinson County has much higher sales per capita than other counties, on average. "
   ]
  },
  {
   "cell_type": "code",
   "execution_count": null,
   "metadata": {},
   "outputs": [],
   "source": [
    "totalCounty[totalCounty[\"County\"] == \"Dickinson County\"][\"SalesPerCapita\"].mean()"
   ]
  },
  {
   "cell_type": "code",
   "execution_count": null,
   "metadata": {},
   "outputs": [],
   "source": [
    "totalCounty[totalCounty[\"County\"] != \"Dickinson County\"][\"SalesPerCapita\"].mean()"
   ]
  },
  {
   "cell_type": "code",
   "execution_count": null,
   "metadata": {},
   "outputs": [],
   "source": [
    "list(totalCounty.columns)"
   ]
  },
  {
   "cell_type": "code",
   "execution_count": null,
   "metadata": {},
   "outputs": [],
   "source": []
  }
 ],
 "metadata": {
  "kernelspec": {
   "display_name": "Python 3",
   "language": "python",
   "name": "python3"
  },
  "language_info": {
   "codemirror_mode": {
    "name": "ipython",
    "version": 3
   },
   "file_extension": ".py",
   "mimetype": "text/x-python",
   "name": "python",
   "nbconvert_exporter": "python",
   "pygments_lexer": "ipython3",
   "version": "3.8.3"
  }
 },
 "nbformat": 4,
 "nbformat_minor": 4
}
