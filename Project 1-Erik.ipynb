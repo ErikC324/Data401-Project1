{
 "cells": [
  {
   "cell_type": "markdown",
   "metadata": {},
   "source": [
    "## Imports and Reading Datasets"
   ]
  },
  {
   "cell_type": "code",
   "execution_count": 1,
   "metadata": {},
   "outputs": [
    {
     "name": "stdout",
     "output_type": "stream",
     "text": [
      "Requirement already satisfied: uszipcode in ./.local/lib/python3.7/site-packages (0.2.4)\n",
      "Requirement already satisfied: sqlalchemy in /opt/tljh/user/lib/python3.7/site-packages (from uszipcode) (1.3.19)\n",
      "Requirement already satisfied: attrs in /opt/tljh/user/lib/python3.7/site-packages (from uszipcode) (20.2.0)\n",
      "Requirement already satisfied: pathlib-mate in ./.local/lib/python3.7/site-packages (from uszipcode) (1.0.0)\n",
      "Requirement already satisfied: requests in /opt/tljh/user/lib/python3.7/site-packages (from uszipcode) (2.22.0)\n",
      "Requirement already satisfied: six in /opt/tljh/user/lib/python3.7/site-packages (from pathlib-mate->uszipcode) (1.12.0)\n",
      "Requirement already satisfied: autopep8 in ./.local/lib/python3.7/site-packages (from pathlib-mate->uszipcode) (1.5.4)\n",
      "Requirement already satisfied: idna<2.9,>=2.5 in /opt/tljh/user/lib/python3.7/site-packages (from requests->uszipcode) (2.8)\n",
      "Requirement already satisfied: urllib3!=1.25.0,!=1.25.1,<1.26,>=1.21.1 in /opt/tljh/user/lib/python3.7/site-packages (from requests->uszipcode) (1.24.2)\n",
      "Requirement already satisfied: chardet<3.1.0,>=3.0.2 in /opt/tljh/user/lib/python3.7/site-packages (from requests->uszipcode) (3.0.4)\n",
      "Requirement already satisfied: certifi>=2017.4.17 in /opt/tljh/user/lib/python3.7/site-packages (from requests->uszipcode) (2020.6.20)\n",
      "Requirement already satisfied: pycodestyle>=2.6.0 in ./.local/lib/python3.7/site-packages (from autopep8->pathlib-mate->uszipcode) (2.6.0)\n",
      "Requirement already satisfied: toml in ./.local/lib/python3.7/site-packages (from autopep8->pathlib-mate->uszipcode) (0.10.1)\n"
     ]
    },
    {
     "name": "stderr",
     "output_type": "stream",
     "text": [
      "/opt/tljh/user/lib/python3.7/site-packages/IPython/core/interactiveshell.py:3146: DtypeWarning: Columns (6,14) have mixed types.Specify dtype option on import or set low_memory=False.\n",
      "  interactivity=interactivity, compiler=compiler, result=result)\n"
     ]
    }
   ],
   "source": [
    "!pip install --user uszipcode\n",
    "from uszipcode import SearchEngine\n",
    "import pandas as pd\n",
    "import numpy as np\n",
    "\n",
    "search = SearchEngine(simple_zipcode=True)\n",
    "df = pd.read_csv('/datasets/iowaliquor.csv')[['Date', 'Store Name', 'Zip Code', 'Sale (Dollars)', 'County']]\n",
    "election_df = pd.read_csv('usa-2016-presidential-election-by-county.csv', sep=';')\n",
    "election_df = election_df[election_df['State'] == 'Iowa']"
   ]
  },
  {
   "cell_type": "markdown",
   "metadata": {},
   "source": [
    "## Fill Missing Zip Codes"
   ]
  },
  {
   "cell_type": "code",
   "execution_count": 2,
   "metadata": {},
   "outputs": [],
   "source": [
    "unqs = df[df[\"Zip Code\"].isna()][\"Store Name\"].unique() # get unique store names\n",
    "cities = [store.split(\"/\")[-1].strip().lower() for store in unqs if \"/\" in store] # extract city name\n",
    "if \"mlk\" in cities:\n",
    "    cities.remove(\"mlk\")\n",
    "subset = df[df[\"Store Name\"].str.contains(\"/\") & (df[\"Zip Code\"].isna())] \n",
    "city_dict = {}\n",
    "for city in set(cities): # get zip code from rows with cities in store name\n",
    "    city_dict[city] = search.by_city_and_state(city, \"iowa\")[0].zipcode\n",
    "city_dict[\"mlk\"] = '50310'\n",
    "df.loc[subset.index, 'Zip Code'] = subset[\"Store Name\"].str.split(\"/\").str[-1].str.strip().str.lower().map(city_dict) "
   ]
  },
  {
   "cell_type": "markdown",
   "metadata": {},
   "source": [
    "## Aggregate and Get Zip Code Statistics"
   ]
  },
  {
   "cell_type": "code",
   "execution_count": 3,
   "metadata": {},
   "outputs": [],
   "source": [
    "df[\"YearMonth\"] = df[\"Date\"].str.split(\"/\").str[2] + \"-\" + df[\"Date\"].str.split(\"/\").str[0]\n",
    "\n",
    "df = df[df[\"Zip Code\"].notna()]\n",
    "df[\"Zip Code\"] = df[\"Zip Code\"].replace(\"712-2\", 51529)\n",
    "df[\"Zip Code\"] = df[\"Zip Code\"].astype(int)\n",
    "\n",
    "countyDict = {}\n",
    "popDict = {}\n",
    "\n",
    "for zc in df[\"Zip Code\"].unique():\n",
    "    stats = search.by_zipcode(zc)\n",
    "    if stats.state == \"IA\":\n",
    "        countyDict[zc] = stats.county\n",
    "        popDict[zc] = stats.population"
   ]
  },
  {
   "cell_type": "code",
   "execution_count": 38,
   "metadata": {},
   "outputs": [],
   "source": [
    "totalZip = pd.DataFrame(df.groupby([\"YearMonth\", \"Zip Code\"])[\"Sale (Dollars)\"].sum())\n",
    "totalZip.reset_index(inplace=True)\n",
    "totalZip[\"Population\"] = totalZip[\"Zip Code\"].map(popDict)"
   ]
  },
  {
   "cell_type": "markdown",
   "metadata": {},
   "source": [
    "## County Aggregate & Add Election Data"
   ]
  },
  {
   "cell_type": "code",
   "execution_count": 61,
   "metadata": {},
   "outputs": [],
   "source": [
    "totalZip[\"County\"] = totalZip[\"Zip Code\"].map(countyDict)\n",
    "totalZip.dropna(inplace=True)\n",
    "totalCounty = pd.DataFrame(totalZip.groupby([\"YearMonth\", \"County\"])[\"Sale (Dollars)\"].sum())\n",
    "totalCounty.reset_index(inplace=True)\n",
    "totalCounty[\"Month\"] = totalCounty[\"YearMonth\"].str.split(\"-\").str[-1]\n",
    "\n",
    "election_df[\"County\"] = election_df[\"County\"].str.replace(', Iowa', \"\")\n",
    "totalCounty = totalCounty.merge(election_df, on=\"County\")\n",
    "totalCounty[\"SalesPerCapita\"] = totalCounty[\"Sale (Dollars)\"] / totalCounty[\"Total Population\"]"
   ]
  },
  {
   "cell_type": "markdown",
   "metadata": {},
   "source": [
    "## Transform Variables"
   ]
  },
  {
   "cell_type": "code",
   "execution_count": 71,
   "metadata": {},
   "outputs": [],
   "source": [
    "totalCounty[\"LogSPC\"] = np.log(totalCounty[\"SalesPerCapita\"])"
   ]
  },
  {
   "cell_type": "markdown",
   "metadata": {},
   "source": [
    "## Linear Regression"
   ]
  },
  {
   "cell_type": "code",
   "execution_count": 85,
   "metadata": {},
   "outputs": [
    {
     "data": {
      "text/plain": [
       "3.1204082042339563"
      ]
     },
     "execution_count": 85,
     "metadata": {},
     "output_type": "execute_result"
    }
   ],
   "source": [
    "X = totalCounty[[\"Month\", \"Median Age\", \"Adult.obesity\", \"Diabetes\", \"White\", \"Less Than High School Diploma\", \"At Least Bachelors's Degree\"]]\n",
    "X = np.array(pd.get_dummies(X))\n",
    "y = np.array(totalCounty['LogSPC'])\n",
    "\n",
    "b = np.linalg.inv(X.T@X)@X.T@y\n",
    "\n",
    "np.sqrt(((np.e**y - np.e**(X@b))**2).mean())"
   ]
  },
  {
   "cell_type": "code",
   "execution_count": null,
   "metadata": {},
   "outputs": [],
   "source": []
  }
 ],
 "metadata": {
  "kernelspec": {
   "display_name": "Python 3",
   "language": "python",
   "name": "python3"
  },
  "language_info": {
   "codemirror_mode": {
    "name": "ipython",
    "version": 3
   },
   "file_extension": ".py",
   "mimetype": "text/x-python",
   "name": "python",
   "nbconvert_exporter": "python",
   "pygments_lexer": "ipython3",
   "version": "3.7.3"
  }
 },
 "nbformat": 4,
 "nbformat_minor": 4
}
